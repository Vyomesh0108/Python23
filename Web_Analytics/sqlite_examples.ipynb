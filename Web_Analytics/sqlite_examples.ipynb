{
 "cells": [
  {
   "cell_type": "code",
   "execution_count": 1,
   "id": "fcd507e9",
   "metadata": {},
   "outputs": [],
   "source": [
    "import sqlite3"
   ]
  },
  {
   "cell_type": "code",
   "execution_count": 4,
   "id": "da9b56af",
   "metadata": {},
   "outputs": [
    {
     "name": "stdout",
     "output_type": "stream",
     "text": [
      "DB Init\n",
      "SQLite Version is [('3.41.2',)]\n",
      "SQLite Connection closed\n"
     ]
    }
   ],
   "source": [
    "try:\n",
    "# Connect to DB and create a cursor\n",
    "    sqliteConnection = sqlite3.connect('sql.db')\n",
    "    cursor = sqliteConnection.cursor()\n",
    "    print('DB Init')\n",
    "# Write a query and execute it with cursor\n",
    "    query = 'select sqlite_version();'\n",
    "    cursor.execute(query)\n",
    "# Fetch and output result\n",
    "    result = cursor.fetchall()\n",
    "    print('SQLite Version is {}'.format(result))\n",
    "# Close the cursor\n",
    "    cursor.close()\n",
    "# Handle errors\n",
    "except sqlite3.Error as error:\n",
    "    print('Error occurred - ', error)\n",
    "# Close DB Connection irrespective of success\n",
    "# or failure\n",
    "finally:\n",
    "    if sqliteConnection:\n",
    "        sqliteConnection.close()\n",
    "        print('SQLite Connection closed')"
   ]
  },
  {
   "cell_type": "code",
   "execution_count": 5,
   "id": "d322e7c5",
   "metadata": {},
   "outputs": [
    {
     "name": "stdout",
     "output_type": "stream",
     "text": [
      "Table is Ready\n"
     ]
    }
   ],
   "source": [
    "import sqlite3\n",
    "# Connecting to sqlite\n",
    "# connection object\n",
    "connection_obj = sqlite3.connect('geek.db')\n",
    "# cursor object\n",
    "cursor_obj = connection_obj.cursor()\n",
    "# Drop the GEEK table if already exists.\n",
    "cursor_obj.execute(\"DROP TABLE IF EXISTS GEEK\")\n",
    "# Creating table\n",
    "table = \"\"\" CREATE TABLE GEEK (\n",
    "    Email VARCHAR(255) NOT NULL,\n",
    "    First_Name CHAR(25) NOT NULL,\n",
    "    Last_Name CHAR(25),\n",
    "    Score INT\n",
    "); \"\"\"\n",
    "cursor_obj.execute(table)\n",
    "print(\"Table is Ready\")\n",
    "# Close the connection\n",
    "connection_obj.close()"
   ]
  },
  {
   "cell_type": "code",
   "execution_count": 6,
   "id": "c9b1f52c",
   "metadata": {},
   "outputs": [
    {
     "name": "stdout",
     "output_type": "stream",
     "text": [
      "Data Inserted in the table: \n",
      "('Raju', '7th', 'A')\n",
      "('Shyam', '8th', 'B')\n",
      "('Baburao', '9th', 'C')\n"
     ]
    }
   ],
   "source": [
    "import sqlite3\n",
    "# Connecting to sqlite\n",
    "conn = sqlite3.connect('geeks2.db')\n",
    "# Creating a cursor object using the\n",
    "# cursor() method\n",
    "cursor = conn.cursor()\n",
    "# Creating table\n",
    "table =\"\"\"CREATE TABLE STUDENT(NAME\n",
    "VARCHAR(255), CLASS VARCHAR(255),\n",
    "SECTION VARCHAR(255));\"\"\"\n",
    "cursor.execute(table)\n",
    "# Queries to INSERT records.\n",
    "cursor.execute('''INSERT INTO STUDENT VALUES ('Raju','7th', 'A')''')\n",
    "cursor.execute('''INSERT INTO STUDENT VALUES ('Shyam', '8th', 'B')''')\n",
    "cursor.execute('''INSERT INTO STUDENT VALUES ('Baburao', '9th', 'C')''')\n",
    "# Display data inserted\n",
    "print(\"Data Inserted in the table: \")\n",
    "data=cursor.execute('''SELECT * FROM STUDENT''')\n",
    "for row in data:\n",
    "    print(row)\n",
    "# Commit your changes in the database\n",
    "conn.commit()\n",
    "# Closing the connection\n",
    "conn.close()"
   ]
  },
  {
   "cell_type": "code",
   "execution_count": 7,
   "id": "434d1e55",
   "metadata": {},
   "outputs": [
    {
     "name": "stdout",
     "output_type": "stream",
     "text": [
      "All the data\n"
     ]
    }
   ],
   "source": [
    "import sqlite3\n",
    "# Connecting to sqlite\n",
    "# connection object\n",
    "connection_obj = sqlite3.connect('geek.db')\n",
    "# cursor object\n",
    "cursor_obj = connection_obj.cursor()\n",
    "# to select all column we will use\n",
    "statement = '''SELECT * FROM GEEK'''\n",
    "cursor_obj.execute(statement)\n",
    "print(\"All the data\")\n",
    "output = cursor_obj.fetchall()\n",
    "for row in output:\n",
    "    print(row)\n",
    "connection_obj.commit()\n",
    "# Close the connection\n",
    "connection_obj.close()"
   ]
  },
  {
   "cell_type": "code",
   "execution_count": 8,
   "id": "70518b14",
   "metadata": {},
   "outputs": [
    {
     "name": "stdout",
     "output_type": "stream",
     "text": [
      "Only one data\n",
      "None\n"
     ]
    }
   ],
   "source": [
    "import sqlite3\n",
    "# Connecting to sqlite\n",
    "# connection object\n",
    "connection_obj = sqlite3.connect('geek.db')\n",
    "# cursor object\n",
    "cursor_obj = connection_obj.cursor()\n",
    "# to select all column we will use\n",
    "statement = '''SELECT * FROM GEEK'''\n",
    "cursor_obj.execute(statement)\n",
    "print(\"Only one data\")\n",
    "output = cursor_obj.fetchone()\n",
    "print(output)\n",
    "connection_obj.commit()\n",
    "# Close the connection\n",
    "connection_obj.close()"
   ]
  },
  {
   "cell_type": "code",
   "execution_count": 9,
   "id": "a7187943",
   "metadata": {},
   "outputs": [
    {
     "name": "stdout",
     "output_type": "stream",
     "text": [
      "Database Created Successfully !\n"
     ]
    }
   ],
   "source": [
    "# import the sqlite3 module\n",
    "import sqlite3\n",
    "# Define connection and cursor\n",
    "connection = sqlite3.connect('geekforgeeks_student.db')\n",
    "cursor = connection.cursor()\n",
    "# create table\n",
    "cursor.execute(\"DROP TABLE IF EXISTS STUDENT\")\n",
    "createTable = '''CREATE TABLE STUDENT(\n",
    "    Student_ID int, First_Name VARCHAR(100),\n",
    "    Last_Name VARCHAR(100), Age int,\n",
    "    Department VARCHAR(100)\n",
    ")'''\n",
    "cursor.execute(createTable)\n",
    "\n",
    "# check the database creation data\n",
    "if cursor:\n",
    "    print(\"Database Created Successfully !\")\n",
    "else:\n",
    "    print(\"Database Creation Failed !\")\n",
    "\n",
    "# Commit the changes in database and Close the connection\n",
    "connection.commit()\n",
    "connection.close()"
   ]
  },
  {
   "cell_type": "code",
   "execution_count": 11,
   "id": "33efd4bb",
   "metadata": {},
   "outputs": [
    {
     "name": "stdout",
     "output_type": "stream",
     "text": [
      "Data Inserted !\n"
     ]
    }
   ],
   "source": [
    "# import the sqlite3 module\n",
    "import sqlite3\n",
    "# Define connection and cursor\n",
    "connection = sqlite3.connect('geekforgeeks_student.db')\n",
    "cursor = connection.cursor()\n",
    "# Insert data into the table\n",
    "cursor.execute(\"INSERT INTO STUDENT VALUES (1,'Rohit', 'Pathak', 21, 'IT')\")\n",
    "cursor.execute(\"INSERT INTO STUDENT VALUES (2,'Nitin', 'Biradar', 21, 'IT')\")\n",
    "cursor.execute(\"INSERT INTO STUDENT VALUES (3,'Virat', 'Kohli', 30, 'CIVIL')\")\n",
    "cursor.execute(\"INSERT INTO STUDENT VALUES (4,'Rohit', 'Sharma', 32, 'COMP')\")\n",
    "# printing the cursor data\n",
    "if cursor:\n",
    "    print(\"Data Inserted !\")\n",
    "else:\n",
    "    print(\"Data Insertion Failed !\")\n",
    "# Commit the changes in database and Close the connection\n",
    "connection.commit()\n",
    "connection.close()"
   ]
  },
  {
   "cell_type": "code",
   "execution_count": 12,
   "id": "fcad9776",
   "metadata": {},
   "outputs": [
    {
     "name": "stdout",
     "output_type": "stream",
     "text": [
      "[(1, 'Rohit', 'Pathak', 21, 'IT'), (2, 'Nitin', 'Biradar', 21, 'IT')]\n"
     ]
    }
   ],
   "source": [
    "import sqlite3\n",
    "connection = sqlite3.connect('geekforgeeks_student.db')\n",
    "cursor = connection.cursor()\n",
    "# WHERE CLAUSE TO RETRIEVE DATA\n",
    "cursor.execute(\"SELECT * FROM STUDENT WHERE Department = 'IT'\")\n",
    "# printing the cursor data\n",
    "print(cursor.fetchall())\n",
    "connection.commit()\n",
    "connection.close()"
   ]
  },
  {
   "cell_type": "code",
   "execution_count": 14,
   "id": "ad76d1a9",
   "metadata": {},
   "outputs": [
    {
     "name": "stdout",
     "output_type": "stream",
     "text": [
      "[(1, 'Rohit', 'Pathak', 21, 'IT'), (4, 'Rohit', 'Sharma', 32, 'COMP')]\n"
     ]
    }
   ],
   "source": [
    "import sqlite3\n",
    "connection = sqlite3.connect('geekforgeeks_student.db')\n",
    "cursor = connection.cursor()\n",
    "# WHERE CLAUSE TO RETRIEVE DATA\n",
    "cursor.execute(\"SELECT * from STUDENT WHERE First_name Like'R%'\")\n",
    "# printing the cursor data\n",
    "print(cursor.fetchall())\n",
    "connection.commit()\n",
    "connection.close()"
   ]
  },
  {
   "cell_type": "code",
   "execution_count": 16,
   "id": "b33cc6c2",
   "metadata": {},
   "outputs": [
    {
     "name": "stdout",
     "output_type": "stream",
     "text": [
      "[(1, 'Rohit', 'Pathak', 21, 'IT'), (2, 'Nitin', 'Biradar', 21, 'E&TC'), (3, 'Virat', 'Kohli', 30, 'CIVIL'), (4, 'Rohit', 'Sharma', 32, 'COMP')]\n"
     ]
    }
   ],
   "source": [
    "import sqlite3\n",
    "connection = sqlite3.connect('geekforgeeks_student.db')\n",
    "cursor = connection.cursor()\n",
    "# WHERE CLAUSE TO UPDATE DATA\n",
    "cursor.execute(\"UPDATE STUDENT SET Department='E&TC' WHERE Student_ID = 2\")\n",
    "# printing the cursor data\n",
    "cursor.execute(\"SELECT * from STUDENT\")\n",
    "print(cursor.fetchall())\n",
    "connection.commit()\n",
    "connection.close()"
   ]
  },
  {
   "cell_type": "code",
   "execution_count": 17,
   "id": "f78085ae",
   "metadata": {},
   "outputs": [
    {
     "name": "stdout",
     "output_type": "stream",
     "text": [
      "[(1, 'Rohit', 'Pathak', 21, 'IT'), (2, 'Nitin', 'Biradar', 21, 'E&TC'), (3, 'Virat', 'Kohli', 30, 'CIVIL')]\n"
     ]
    }
   ],
   "source": [
    "import sqlite3\n",
    "connection = sqlite3.connect('geekforgeeks_student.db')\n",
    "cursor = connection.cursor()\n",
    "# WHERE CLAUSE TO DELETE DATA\n",
    "cursor.execute(\"DELETE from STUDENT WHERE Age = 32\")\n",
    "#printing the cursor data\n",
    "cursor.execute(\"SELECT * from STUDENT\")\n",
    "print(cursor.fetchall())\n",
    "connection.commit()\n",
    "connection.close()"
   ]
  },
  {
   "cell_type": "code",
   "execution_count": 18,
   "id": "29b65dd9",
   "metadata": {},
   "outputs": [],
   "source": [
    "# importing sqlite module\n",
    "import sqlite3\n",
    "# create connection to the database\n",
    "# geeks_database\n",
    "connection = sqlite3.connect('geeks_database.db')\n",
    "# create table named address of customers\n",
    "# with 4 columns id,name age and address\n",
    "connection.execute('''CREATE TABLE customer_address\n",
    "(ID INT PRIMARY KEY NOT NULL,\n",
    "NAME TEXT NOT NULL,\n",
    "AGE INT NOT NULL,\n",
    "ADDRESS CHAR(50)); ''')\n",
    "# close the connection\n",
    "connection.commit()\n",
    "connection.close()"
   ]
  },
  {
   "cell_type": "code",
   "execution_count": 19,
   "id": "5b2e3567",
   "metadata": {},
   "outputs": [],
   "source": [
    "# importing sqlite module\n",
    "import sqlite3\n",
    "# create connection to the database\n",
    "# geeks_database\n",
    "connection = sqlite3.connect('geeks_database.db')\n",
    "# insert records into table\n",
    "connection.execute(\n",
    "\"INSERT INTO customer_address VALUES (1, 'nikhilteja', 22, 'hyderabad' )\")\n",
    "connection.execute(\n",
    "\"INSERT INTO customer_address VALUES (2, 'karthik', 25, 'khammam')\")\n",
    "connection.execute(\n",
    "\"INSERT INTO customer_address VALUES (3, 'sravan', 22, 'ponnur' )\")\n",
    "connection.execute(\n",
    "\"INSERT INTO customer_address VALUES (4, 'deepika', 25, 'chebrolu' )\")\n",
    "connection.execute(\n",
    "\"INSERT INTO customer_address VALUES (5, 'jyothika', 22, 'noida')\")\n",
    "connection.commit()\n",
    "# close the connection\n",
    "connection.close()"
   ]
  },
  {
   "cell_type": "code",
   "execution_count": 20,
   "id": "733fd80e",
   "metadata": {},
   "outputs": [
    {
     "name": "stdout",
     "output_type": "stream",
     "text": [
      "('chebrolu', 4)\n",
      "('hyderabad', 1)\n",
      "('khammam', 2)\n",
      "('noida', 5)\n",
      "('ponnur', 3)\n"
     ]
    }
   ],
   "source": [
    "# importing sqlite module\n",
    "import sqlite3\n",
    "# create connection to the database\n",
    "# geeks_database\n",
    "connection = sqlite3.connect('geeks_database.db')\n",
    "# sql query to display all details from\n",
    "# table in ascending order based on address nor mal display\n",
    "cursor = connection.execute(\n",
    "\"SELECT ADDRESS,ID from customer_address ORDER BY address \")\n",
    "# display data row by row\n",
    "for i in cursor:\n",
    "    print(i)\n",
    "    connection.commit()\n",
    "# close the connection\n",
    "connection.close()"
   ]
  },
  {
   "cell_type": "code",
   "execution_count": 21,
   "id": "bf6ad9b7",
   "metadata": {},
   "outputs": [
    {
     "name": "stdout",
     "output_type": "stream",
     "text": [
      "('ponnur', 3)\n",
      "('noida', 5)\n",
      "('khammam', 2)\n",
      "('hyderabad', 1)\n",
      "('chebrolu', 4)\n"
     ]
    }
   ],
   "source": [
    "# importing sqlite module\n",
    "import sqlite3\n",
    "# create connection to the database\n",
    "# geeks_database\n",
    "connection = sqlite3.connect('geeks_database.db')\n",
    "# sql query to display address and id\n",
    "# based on address in descending order\n",
    "cursor = connection.execute(\"SELECT ADDRESS,ID from customer_address ORDER BY address DESC\")\n",
    "# display data row by row\n",
    "for i in cursor:\n",
    "    print(i)\n",
    "    connection.commit()\n",
    "# close the connection\n",
    "connection.close()"
   ]
  },
  {
   "cell_type": "code",
   "execution_count": 23,
   "id": "58e70a1e",
   "metadata": {},
   "outputs": [
    {
     "name": "stdout",
     "output_type": "stream",
     "text": [
      "('sravan', 3)\n",
      "('nikhilteja', 1)\n",
      "('karthik', 2)\n",
      "('jyothika', 5)\n",
      "('deepika', 4)\n"
     ]
    }
   ],
   "source": [
    "# importing sqlite module\n",
    "import sqlite3\n",
    "# create connection to the database\n",
    "# geeks_database\n",
    "connection = sqlite3.connect('geeks_database.db')\n",
    "# sql query to display name and id based\n",
    "# on name in descending order\n",
    "cursor = connection.execute(\n",
    "\"SELECT NAME,ID from customer_address ORDER BY NAME DESC\")\n",
    "# display data row by row\n",
    "for i in cursor:\n",
    "    print(i)\n",
    "    connection.commit()\n",
    "# close the connection\n",
    "connection.close()"
   ]
  },
  {
   "cell_type": "code",
   "execution_count": 26,
   "id": "02d51e54",
   "metadata": {},
   "outputs": [
    {
     "ename": "OperationalError",
     "evalue": "table customer_address already exists",
     "output_type": "error",
     "traceback": [
      "\u001b[1;31m---------------------------------------------------------------------------\u001b[0m",
      "\u001b[1;31mOperationalError\u001b[0m                          Traceback (most recent call last)",
      "Input \u001b[1;32mIn [26]\u001b[0m, in \u001b[0;36m<cell line: 8>\u001b[1;34m()\u001b[0m\n\u001b[0;32m      5\u001b[0m connection \u001b[38;5;241m=\u001b[39m sqlite3\u001b[38;5;241m.\u001b[39mconnect(\u001b[38;5;124m'\u001b[39m\u001b[38;5;124mgeeks_database.db\u001b[39m\u001b[38;5;124m'\u001b[39m)\n\u001b[0;32m      6\u001b[0m \u001b[38;5;66;03m# create table named address of customers\u001b[39;00m\n\u001b[0;32m      7\u001b[0m \u001b[38;5;66;03m# with 4 columns id,name age and address\u001b[39;00m\n\u001b[1;32m----> 8\u001b[0m \u001b[43mconnection\u001b[49m\u001b[38;5;241;43m.\u001b[39;49m\u001b[43mexecute\u001b[49m\u001b[43m(\u001b[49m\u001b[38;5;124;43m'''\u001b[39;49m\u001b[38;5;124;43mCREATE TABLE customer_address (ID INT PRIMARY KEY NOT NULL,NAME TEXT NOT NULL,AGE INT NOT NULL,ADDRESS CHAR(50)); \u001b[39;49m\u001b[38;5;124;43m'''\u001b[39;49m\u001b[43m)\u001b[49m\n\u001b[0;32m      9\u001b[0m connection\u001b[38;5;241m.\u001b[39mcommit()\n\u001b[0;32m     10\u001b[0m \u001b[38;5;66;03m# close the connection\u001b[39;00m\n",
      "\u001b[1;31mOperationalError\u001b[0m: table customer_address already exists"
     ]
    }
   ],
   "source": [
    "# importing sqlite module\n",
    "import sqlite3\n",
    "# create connection to the database\n",
    "# geeks_database\n",
    "connection = sqlite3.connect('geeks_database.db')\n",
    "# create table named address of customers\n",
    "# with 4 columns id,name age and address\n",
    "connection.execute('''CREATE TABLE customer_address (ID INT PRIMARY KEY NOT NULL,NAME TEXT NOT NULL,AGE INT NOT NULL,ADDRESS CHAR(50)); ''')\n",
    "connection.commit()\n",
    "# close the connection\n",
    "connection.close()"
   ]
  },
  {
   "cell_type": "code",
   "execution_count": 29,
   "id": "d047773c",
   "metadata": {},
   "outputs": [
    {
     "ename": "IntegrityError",
     "evalue": "UNIQUE constraint failed: customer_address.ID",
     "output_type": "error",
     "traceback": [
      "\u001b[1;31m---------------------------------------------------------------------------\u001b[0m",
      "\u001b[1;31mIntegrityError\u001b[0m                            Traceback (most recent call last)",
      "Input \u001b[1;32mIn [29]\u001b[0m, in \u001b[0;36m<cell line: 7>\u001b[1;34m()\u001b[0m\n\u001b[0;32m      5\u001b[0m connection \u001b[38;5;241m=\u001b[39m sqlite3\u001b[38;5;241m.\u001b[39mconnect(\u001b[38;5;124m'\u001b[39m\u001b[38;5;124mgeeks_database.db\u001b[39m\u001b[38;5;124m'\u001b[39m)\n\u001b[0;32m      6\u001b[0m \u001b[38;5;66;03m# insert records into table\u001b[39;00m\n\u001b[1;32m----> 7\u001b[0m \u001b[43mconnection\u001b[49m\u001b[38;5;241;43m.\u001b[39;49m\u001b[43mexecute\u001b[49m\u001b[43m(\u001b[49m\u001b[38;5;124;43m\"\u001b[39;49m\u001b[38;5;124;43mINSERT INTO customer_address VALUES (1, \u001b[39;49m\u001b[38;5;124;43m'\u001b[39;49m\u001b[38;5;124;43mnikhilteja\u001b[39;49m\u001b[38;5;124;43m'\u001b[39;49m\u001b[38;5;124;43m, 22, \u001b[39;49m\u001b[38;5;124;43m'\u001b[39;49m\u001b[38;5;124;43mhyderabad\u001b[39;49m\u001b[38;5;124;43m'\u001b[39;49m\u001b[38;5;124;43m)\u001b[39;49m\u001b[38;5;124;43m\"\u001b[39;49m\u001b[43m)\u001b[49m\n\u001b[0;32m      8\u001b[0m connection\u001b[38;5;241m.\u001b[39mexecute(\u001b[38;5;124m\"\u001b[39m\u001b[38;5;124mINSERT INTO customer_address VALUES (2, \u001b[39m\u001b[38;5;124m'\u001b[39m\u001b[38;5;124mkarthik\u001b[39m\u001b[38;5;124m'\u001b[39m\u001b[38;5;124m, 25, \u001b[39m\u001b[38;5;124m'\u001b[39m\u001b[38;5;124mkhammam\u001b[39m\u001b[38;5;124m'\u001b[39m\u001b[38;5;124m)\u001b[39m\u001b[38;5;124m\"\u001b[39m)\n\u001b[0;32m      9\u001b[0m connection\u001b[38;5;241m.\u001b[39mexecute(\u001b[38;5;124m\"\u001b[39m\u001b[38;5;124mINSERT INTO customer_address VALUES (3, \u001b[39m\u001b[38;5;124m'\u001b[39m\u001b[38;5;124msravan\u001b[39m\u001b[38;5;124m'\u001b[39m\u001b[38;5;124m, 22, \u001b[39m\u001b[38;5;124m'\u001b[39m\u001b[38;5;124mponnur\u001b[39m\u001b[38;5;124m'\u001b[39m\u001b[38;5;124m )\u001b[39m\u001b[38;5;124m\"\u001b[39m)\n",
      "\u001b[1;31mIntegrityError\u001b[0m: UNIQUE constraint failed: customer_address.ID"
     ]
    }
   ],
   "source": [
    "# importing sqlite module\n",
    "import sqlite3\n",
    "# create connection to the database\n",
    "# geeks_database\n",
    "connection = sqlite3.connect('geeks_database.db')\n",
    "# insert records into table\n",
    "connection.execute(\"INSERT INTO customer_address VALUES (1, 'nikhilteja', 22, 'hyderabad')\")\n",
    "connection.execute(\"INSERT INTO customer_address VALUES (2, 'karthik', 25, 'khammam')\")\n",
    "connection.execute(\"INSERT INTO customer_address VALUES (3, 'sravan', 22, 'ponnur' )\")\n",
    "connection.execute(\"INSERT INTO customer_address VALUES (4, 'deepika', 25, 'chebrolu' )\")\n",
    "connection.execute(\"INSERT INTO customer_address VALUES (5, 'jyothika', 22, 'noida')\")\n",
    "Cursor.Commit()\n",
    "# close the connection\n",
    "connection.close()"
   ]
  },
  {
   "cell_type": "code",
   "execution_count": 31,
   "id": "0cdfda97",
   "metadata": {},
   "outputs": [
    {
     "name": "stdout",
     "output_type": "stream",
     "text": [
      "(1, 'nikhilteja', 22, 'hyderabad')\n",
      "(2, 'karthik', 25, 'khammam')\n",
      "(3, 'sravan', 22, 'ponnur')\n",
      "(4, 'deepika', 25, 'chebrolu')\n"
     ]
    }
   ],
   "source": [
    "# importing sqlite module\n",
    "import sqlite3\n",
    "# create connection to the database\n",
    "# geeks_database\n",
    "connection = sqlite3.connect('geeks_database.db')\n",
    "# sql query to display top4 data from table\n",
    "cursor = connection.execute(\"SELECT * FROM customer_address LIMIT 4\")\n",
    "# display data row by row\n",
    "for i in cursor:\n",
    "    print(i)\n",
    "connection.commit()\n",
    "# close the connection\n",
    "connection.close()"
   ]
  },
  {
   "cell_type": "code",
   "execution_count": 34,
   "id": "09b5abad",
   "metadata": {},
   "outputs": [
    {
     "ename": "OperationalError",
     "evalue": "unable to open database file",
     "output_type": "error",
     "traceback": [
      "\u001b[1;31m---------------------------------------------------------------------------\u001b[0m",
      "\u001b[1;31mOperationalError\u001b[0m                          Traceback (most recent call last)",
      "Input \u001b[1;32mIn [34]\u001b[0m, in \u001b[0;36m<cell line: 5>\u001b[1;34m()\u001b[0m\n\u001b[0;32m      2\u001b[0m \u001b[38;5;28;01mimport\u001b[39;00m \u001b[38;5;21;01msqlite3\u001b[39;00m\n\u001b[0;32m      3\u001b[0m \u001b[38;5;66;03m# Connect to SQLite database\u001b[39;00m\n\u001b[0;32m      4\u001b[0m \u001b[38;5;66;03m# New file created if it doesn't already exist\u001b[39;00m\n\u001b[1;32m----> 5\u001b[0m conn \u001b[38;5;241m=\u001b[39m \u001b[43msqlite3\u001b[49m\u001b[38;5;241;43m.\u001b[39;49m\u001b[43mconnect\u001b[49m\u001b[43m(\u001b[49m\u001b[38;5;124;43mr\u001b[39;49m\u001b[38;5;124;43m'\u001b[39;49m\u001b[38;5;124;43mC:\u001b[39;49m\u001b[38;5;124;43m\\\u001b[39;49m\u001b[38;5;124;43mUsers\u001b[39;49m\u001b[38;5;124;43m\\\u001b[39;49m\u001b[38;5;124;43mvyome\u001b[39;49m\u001b[38;5;124;43m\\\u001b[39;49m\u001b[38;5;124;43manaconda3\u001b[39;49m\u001b[38;5;124;43m\\\u001b[39;49m\u001b[38;5;124;43mWeb_Analytics\u001b[39;49m\u001b[38;5;124;43m'\u001b[39;49m\u001b[43m)\u001b[49m\n\u001b[0;32m      6\u001b[0m \u001b[38;5;66;03m# Create cursor object\u001b[39;00m\n\u001b[0;32m      7\u001b[0m cursor \u001b[38;5;241m=\u001b[39m conn\u001b[38;5;241m.\u001b[39mcursor()\n",
      "\u001b[1;31mOperationalError\u001b[0m: unable to open database file"
     ]
    }
   ],
   "source": [
    "# Import required libraries\n",
    "import sqlite3\n",
    "# Connect to SQLite database\n",
    "# New file created if it doesn't already exist\n",
    "conn = sqlite3.connect(r'C:\\Users\\vyome\\anaconda3\\Web_Analytics')\n",
    "# Create cursor object\n",
    "cursor = conn.cursor()\n",
    "# Create and populate tables\n",
    "cursor.executescript('''CREATE TABLE Advisor(AdvisorID INTEGER NOT NULL,AdvisorName TEXT NOT NULL,PRIMARY KEY(AdvisorID));\n",
    "CREATE TABLE Student(StudentID NUMERIC NOT NULL,StudentName NUMERIC NOT NULL,AdvisorID INTEGER,FOREIGN KEY(AdvisorID) REFERENCESAdvisor(AdvisorID),PRIMARY KEY(StudentID));\n",
    "INSERT INTO Advisor(AdvisorID, AdvisorName) VALUES (1,\"John Paul\"),(2,\"Anthony Roy\"),(3,\"Raj Shetty\"),(4,\"Sam Reeds\"),(5,\"Arthur Clintwood\");\n",
    "INSERT INTO Student(StudentID, StudentName, AdvisorID) VALUES (501,\"Geek1\",1),(502,\"Geek2\",1),(503,\"Geek3\",3),(504,\"Geek4\",2),(505,\"Geek5\",4),(506,\"Geek6\",2),(507,\"Geek7\",2),(508,\"Geek8\",3),(509,\"Geek9\",NULL),(510,\"Geek10\",1);''')\n",
    "#Commit changes to database\n",
    "conn.commit()\n",
    "# Closing the connection\n",
    "conn.close()"
   ]
  },
  {
   "cell_type": "code",
   "execution_count": 33,
   "id": "edcc9afb",
   "metadata": {},
   "outputs": [
    {
     "ename": "OperationalError",
     "evalue": "unable to open database file",
     "output_type": "error",
     "traceback": [
      "\u001b[1;31m---------------------------------------------------------------------------\u001b[0m",
      "\u001b[1;31mOperationalError\u001b[0m                          Traceback (most recent call last)",
      "Input \u001b[1;32mIn [33]\u001b[0m, in \u001b[0;36m<cell line: 4>\u001b[1;34m()\u001b[0m\n\u001b[0;32m      2\u001b[0m \u001b[38;5;28;01mimport\u001b[39;00m \u001b[38;5;21;01msqlite3\u001b[39;00m\n\u001b[0;32m      3\u001b[0m \u001b[38;5;66;03m# Connect to SQLite database\u001b[39;00m\n\u001b[1;32m----> 4\u001b[0m conn \u001b[38;5;241m=\u001b[39m \u001b[43msqlite3\u001b[49m\u001b[38;5;241;43m.\u001b[39;49m\u001b[43mconnect\u001b[49m\u001b[43m(\u001b[49m\u001b[38;5;124;43mr\u001b[39;49m\u001b[38;5;124;43m'\u001b[39;49m\u001b[38;5;124;43mC:\u001b[39;49m\u001b[38;5;124;43m\\\u001b[39;49m\u001b[38;5;124;43mUsers\u001b[39;49m\u001b[38;5;124;43m\\\u001b[39;49m\u001b[38;5;124;43mSQLite\u001b[39;49m\u001b[38;5;124;43m\\\u001b[39;49m\u001b[38;5;124;43mGeeks.db\u001b[39;49m\u001b[38;5;124;43m'\u001b[39;49m\u001b[43m)\u001b[49m\n\u001b[0;32m      5\u001b[0m \u001b[38;5;66;03m# Create cursor object\u001b[39;00m\n\u001b[0;32m      6\u001b[0m cursor \u001b[38;5;241m=\u001b[39m conn\u001b[38;5;241m.\u001b[39mcursor()\n",
      "\u001b[1;31mOperationalError\u001b[0m: unable to open database file"
     ]
    }
   ],
   "source": [
    "# Import required libraries\n",
    "import sqlite3\n",
    "# Connect to SQLite database\n",
    "conn = sqlite3.connect(r'C:\\Users\\SQLite\\Geeks.db')\n",
    "# Create cursor object\n",
    "cursor = conn.cursor()\n",
    "# Query for INNER JOIN\n",
    "sql = '''SELECT StudentID, StudentName, AdvisorName FROM Student INNER JOIN Advisor ON Student.AdvisorID = Advisor.AdvisorID;'''\n",
    "# Executing the query\n",
    "cursor.execute(sql)\n",
    "# Fetching rows from the result table\n",
    "result = cursor.fetchall()\n",
    "for row in result:\n",
    "    print(row)\n",
    "# Closing the connection\n",
    "conn.close()"
   ]
  },
  {
   "cell_type": "code",
   "execution_count": 35,
   "id": "2e7a7cf2",
   "metadata": {},
   "outputs": [
    {
     "ename": "OperationalError",
     "evalue": "unable to open database file",
     "output_type": "error",
     "traceback": [
      "\u001b[1;31m---------------------------------------------------------------------------\u001b[0m",
      "\u001b[1;31mOperationalError\u001b[0m                          Traceback (most recent call last)",
      "Input \u001b[1;32mIn [35]\u001b[0m, in \u001b[0;36m<cell line: 4>\u001b[1;34m()\u001b[0m\n\u001b[0;32m      2\u001b[0m \u001b[38;5;28;01mimport\u001b[39;00m \u001b[38;5;21;01msqlite3\u001b[39;00m\n\u001b[0;32m      3\u001b[0m \u001b[38;5;66;03m# Connect to SQLite database\u001b[39;00m\n\u001b[1;32m----> 4\u001b[0m conn \u001b[38;5;241m=\u001b[39m \u001b[43msqlite3\u001b[49m\u001b[38;5;241;43m.\u001b[39;49m\u001b[43mconnect\u001b[49m\u001b[43m(\u001b[49m\u001b[38;5;124;43mr\u001b[39;49m\u001b[38;5;124;43m'\u001b[39;49m\u001b[38;5;124;43mC:\u001b[39;49m\u001b[38;5;124;43m\\\u001b[39;49m\u001b[38;5;124;43mUsers\u001b[39;49m\u001b[38;5;124;43m\\\u001b[39;49m\u001b[38;5;124;43mSQLite\u001b[39;49m\u001b[38;5;124;43m\\\u001b[39;49m\u001b[38;5;124;43mGeeks.db\u001b[39;49m\u001b[38;5;124;43m'\u001b[39;49m\u001b[43m)\u001b[49m\n\u001b[0;32m      5\u001b[0m \u001b[38;5;66;03m# Create cursor object\u001b[39;00m\n\u001b[0;32m      6\u001b[0m cursor \u001b[38;5;241m=\u001b[39m conn\u001b[38;5;241m.\u001b[39mcursor()\n",
      "\u001b[1;31mOperationalError\u001b[0m: unable to open database file"
     ]
    }
   ],
   "source": [
    "# Import required libraries\n",
    "import sqlite3\n",
    "# Connect to SQLite database\n",
    "conn = sqlite3.connect(r'C:\\Users\\SQLite\\Geeks.db')\n",
    "# Create cursor object\n",
    "cursor = conn.cursor()\n",
    "# Query for LEFT JOIN\n",
    "sql = '''SELECT StudentID, StudentName, AdvisorName FROM Student LEFT JOIN Advisor USING(AdvisorID) ;'''\n",
    "# Executing the query\n",
    "cursor.execute(sql)\n",
    "# Fetching rows from the result table\n",
    "result = cursor.fetchall()\n",
    "for row in result:\n",
    "    print(row)\n",
    "# Closing the connection\n",
    "conn.close()"
   ]
  },
  {
   "cell_type": "code",
   "execution_count": 36,
   "id": "16396e55",
   "metadata": {},
   "outputs": [
    {
     "ename": "OperationalError",
     "evalue": "unable to open database file",
     "output_type": "error",
     "traceback": [
      "\u001b[1;31m---------------------------------------------------------------------------\u001b[0m",
      "\u001b[1;31mOperationalError\u001b[0m                          Traceback (most recent call last)",
      "Input \u001b[1;32mIn [36]\u001b[0m, in \u001b[0;36m<cell line: 4>\u001b[1;34m()\u001b[0m\n\u001b[0;32m      2\u001b[0m \u001b[38;5;28;01mimport\u001b[39;00m \u001b[38;5;21;01msqlite3\u001b[39;00m\n\u001b[0;32m      3\u001b[0m \u001b[38;5;66;03m# Connect to SQLite database\u001b[39;00m\n\u001b[1;32m----> 4\u001b[0m conn \u001b[38;5;241m=\u001b[39m \u001b[43msqlite3\u001b[49m\u001b[38;5;241;43m.\u001b[39;49m\u001b[43mconnect\u001b[49m\u001b[43m(\u001b[49m\u001b[38;5;124;43mr\u001b[39;49m\u001b[38;5;124;43m'\u001b[39;49m\u001b[38;5;124;43mC:\u001b[39;49m\u001b[38;5;124;43m\\\u001b[39;49m\u001b[38;5;124;43mUsers\u001b[39;49m\u001b[38;5;124;43m\\\u001b[39;49m\u001b[38;5;124;43mSQLite\u001b[39;49m\u001b[38;5;124;43m\\\u001b[39;49m\u001b[38;5;124;43mGeeks.db\u001b[39;49m\u001b[38;5;124;43m'\u001b[39;49m\u001b[43m)\u001b[49m\n\u001b[0;32m      5\u001b[0m \u001b[38;5;66;03m# Create cursor object\u001b[39;00m\n\u001b[0;32m      6\u001b[0m cursor \u001b[38;5;241m=\u001b[39m conn\u001b[38;5;241m.\u001b[39mcursor()\n",
      "\u001b[1;31mOperationalError\u001b[0m: unable to open database file"
     ]
    }
   ],
   "source": [
    "# Import required libraries\n",
    "import sqlite3\n",
    "# Connect to SQLite database\n",
    "conn = sqlite3.connect(r'C:\\Users\\SQLite\\Geeks.db')\n",
    "# Create cursor object\n",
    "cursor = conn.cursor()\n",
    "# Query for RIGHT JOIN\n",
    "sql = '''SELECT StudentID, StudentName, AdvisorName FROM Advisor LEFT JOIN Student USING(AdvisorID);'''\n",
    "# Executing the query\n",
    "cursor.execute(sql)\n",
    "# Fetching rows from the result table\n",
    "result = cursor.fetchall()\n",
    "for row in result:\n",
    "    print(row)\n",
    "# Closing the connection\n",
    "conn.close()"
   ]
  },
  {
   "cell_type": "code",
   "execution_count": 37,
   "id": "2b72e742",
   "metadata": {},
   "outputs": [
    {
     "ename": "OperationalError",
     "evalue": "unable to open database file",
     "output_type": "error",
     "traceback": [
      "\u001b[1;31m---------------------------------------------------------------------------\u001b[0m",
      "\u001b[1;31mOperationalError\u001b[0m                          Traceback (most recent call last)",
      "Input \u001b[1;32mIn [37]\u001b[0m, in \u001b[0;36m<cell line: 4>\u001b[1;34m()\u001b[0m\n\u001b[0;32m      2\u001b[0m \u001b[38;5;28;01mimport\u001b[39;00m \u001b[38;5;21;01msqlite3\u001b[39;00m\n\u001b[0;32m      3\u001b[0m \u001b[38;5;66;03m# Connect to SQLite database\u001b[39;00m\n\u001b[1;32m----> 4\u001b[0m conn \u001b[38;5;241m=\u001b[39m \u001b[43msqlite3\u001b[49m\u001b[38;5;241;43m.\u001b[39;49m\u001b[43mconnect\u001b[49m\u001b[43m(\u001b[49m\u001b[38;5;124;43mr\u001b[39;49m\u001b[38;5;124;43m'\u001b[39;49m\u001b[38;5;124;43mC:\u001b[39;49m\u001b[38;5;124;43m\\\u001b[39;49m\u001b[38;5;124;43mUsers\u001b[39;49m\u001b[38;5;124;43m\\\u001b[39;49m\u001b[38;5;124;43mSQLite\u001b[39;49m\u001b[38;5;124;43m\\\u001b[39;49m\u001b[38;5;124;43mGeeks.db\u001b[39;49m\u001b[38;5;124;43m'\u001b[39;49m\u001b[43m)\u001b[49m\n\u001b[0;32m      5\u001b[0m \u001b[38;5;66;03m# Create cursor object\u001b[39;00m\n\u001b[0;32m      6\u001b[0m cursor \u001b[38;5;241m=\u001b[39m conn\u001b[38;5;241m.\u001b[39mcursor()\n",
      "\u001b[1;31mOperationalError\u001b[0m: unable to open database file"
     ]
    }
   ],
   "source": [
    "# Import required libraries\n",
    "import sqlite3\n",
    "# Connect to SQLite database\n",
    "conn = sqlite3.connect(r'C:\\Users\\SQLite\\Geeks.db')\n",
    "# Create cursor object\n",
    "cursor = conn.cursor()\n",
    "# Query for FULL OUTER JOIN\n",
    "sql = '''SELECT StudentID, StudentName, AdvisorName FROM Student LEFT JOIN Advisor USING(AdvisorID) UNION ALL SELECT StudentID, StudentName, AdvisorName FROM Advisor LEFT JOIN Student USING(AdvisorID) WHERE Student.AdvisorID IS NULL;'''\n",
    "# Executing the query\n",
    "cursor.execute(sql)\n",
    "# Fetching rows from the result table\n",
    "result = cursor.fetchall()\n",
    "for row in result:\n",
    "    print(row)\n",
    "# Closing the connection\n",
    "conn.close()"
   ]
  },
  {
   "cell_type": "code",
   "execution_count": 38,
   "id": "be6c5a1a",
   "metadata": {},
   "outputs": [
    {
     "ename": "OperationalError",
     "evalue": "unable to open database file",
     "output_type": "error",
     "traceback": [
      "\u001b[1;31m---------------------------------------------------------------------------\u001b[0m",
      "\u001b[1;31mOperationalError\u001b[0m                          Traceback (most recent call last)",
      "Input \u001b[1;32mIn [38]\u001b[0m, in \u001b[0;36m<cell line: 4>\u001b[1;34m()\u001b[0m\n\u001b[0;32m      2\u001b[0m \u001b[38;5;28;01mimport\u001b[39;00m \u001b[38;5;21;01msqlite3\u001b[39;00m\n\u001b[0;32m      3\u001b[0m \u001b[38;5;66;03m# Connect to SQLite database\u001b[39;00m\n\u001b[1;32m----> 4\u001b[0m conn \u001b[38;5;241m=\u001b[39m \u001b[43msqlite3\u001b[49m\u001b[38;5;241;43m.\u001b[39;49m\u001b[43mconnect\u001b[49m\u001b[43m(\u001b[49m\u001b[38;5;124;43mr\u001b[39;49m\u001b[38;5;124;43m'\u001b[39;49m\u001b[38;5;124;43mC:\u001b[39;49m\u001b[38;5;124;43m\\\u001b[39;49m\u001b[38;5;124;43mUsers\u001b[39;49m\u001b[38;5;124;43m\\\u001b[39;49m\u001b[38;5;124;43mSQLite\u001b[39;49m\u001b[38;5;124;43m\\\u001b[39;49m\u001b[38;5;124;43mGeeks.db\u001b[39;49m\u001b[38;5;124;43m'\u001b[39;49m\u001b[43m)\u001b[49m\n\u001b[0;32m      5\u001b[0m \u001b[38;5;66;03m# Create cursor object\u001b[39;00m\n\u001b[0;32m      6\u001b[0m cursor \u001b[38;5;241m=\u001b[39m conn\u001b[38;5;241m.\u001b[39mcursor()\n",
      "\u001b[1;31mOperationalError\u001b[0m: unable to open database file"
     ]
    }
   ],
   "source": [
    "# Import required libraries\n",
    "import sqlite3\n",
    "# Connect to SQLite database\n",
    "conn = sqlite3.connect(r'C:\\Users\\SQLite\\Geeks.db')\n",
    "# Create cursor object\n",
    "cursor = conn.cursor()\n",
    "# Query for CROSS JOIN\n",
    "sql = '''SELECT StudentID, StudentName, AdvisorName FROM Student CROSS JOIN Advisor;'''\n",
    "# Executing the query\n",
    "cursor.execute(sql)\n",
    "# Fetching rows from the result table\n",
    "result = cursor.fetchall()\n",
    "for row in result:\n",
    "    print(row)\n",
    "# Closing the connection\n",
    "conn.close()"
   ]
  }
 ],
 "metadata": {
  "kernelspec": {
   "display_name": "Python 3 (ipykernel)",
   "language": "python",
   "name": "python3"
  },
  "language_info": {
   "codemirror_mode": {
    "name": "ipython",
    "version": 3
   },
   "file_extension": ".py",
   "mimetype": "text/x-python",
   "name": "python",
   "nbconvert_exporter": "python",
   "pygments_lexer": "ipython3",
   "version": "3.9.12"
  }
 },
 "nbformat": 4,
 "nbformat_minor": 5
}
