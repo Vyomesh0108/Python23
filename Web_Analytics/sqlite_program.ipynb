{
 "cells": [
  {
   "cell_type": "code",
   "execution_count": 2,
   "id": "938559e3",
   "metadata": {},
   "outputs": [],
   "source": [
    "import sqlite3\n",
    "con = sqlite3.connect(\"tutorial.db\")"
   ]
  },
  {
   "cell_type": "code",
   "execution_count": 3,
   "id": "9f5d46ee",
   "metadata": {},
   "outputs": [],
   "source": [
    "cur = con.cursor()"
   ]
  },
  {
   "cell_type": "code",
   "execution_count": 4,
   "id": "02dab01a",
   "metadata": {},
   "outputs": [
    {
     "data": {
      "text/plain": [
       "<sqlite3.Cursor at 0x21de11dbea0>"
      ]
     },
     "execution_count": 4,
     "metadata": {},
     "output_type": "execute_result"
    }
   ],
   "source": [
    "cur.execute(\"CREATE TABLE movie(title,year,score)\")"
   ]
  },
  {
   "cell_type": "code",
   "execution_count": 5,
   "id": "b3b02392",
   "metadata": {},
   "outputs": [
    {
     "data": {
      "text/plain": [
       "('movie',)"
      ]
     },
     "execution_count": 5,
     "metadata": {},
     "output_type": "execute_result"
    }
   ],
   "source": [
    "res = cur.execute(\"SELECT name FROM sqlite_master\")\n",
    "res.fetchone()"
   ]
  },
  {
   "cell_type": "code",
   "execution_count": 6,
   "id": "a2071a46",
   "metadata": {},
   "outputs": [
    {
     "data": {
      "text/plain": [
       "True"
      ]
     },
     "execution_count": 6,
     "metadata": {},
     "output_type": "execute_result"
    }
   ],
   "source": [
    "res = cur.execute(\"SELECT name FROM sqlite_master WHERE name='spam'\")\n",
    "res.fetchone() is None"
   ]
  },
  {
   "cell_type": "code",
   "execution_count": 15,
   "id": "2a285f18",
   "metadata": {},
   "outputs": [
    {
     "data": {
      "text/plain": [
       "<sqlite3.Cursor at 0x21de11dbea0>"
      ]
     },
     "execution_count": 15,
     "metadata": {},
     "output_type": "execute_result"
    }
   ],
   "source": [
    "cur.execute(\"\"\"INSERT INTO movie VALUES\n",
    "    ('Monty Python and the Holy Grail',1975,8.2),\n",
    "    ('And Now for Something Completely Different',1971,7.5)\n",
    "\"\"\")"
   ]
  },
  {
   "cell_type": "code",
   "execution_count": 16,
   "id": "e26e685f",
   "metadata": {},
   "outputs": [],
   "source": [
    "con.commit()"
   ]
  },
  {
   "cell_type": "code",
   "execution_count": 17,
   "id": "9240f692",
   "metadata": {},
   "outputs": [],
   "source": [
    "res = cur.execute(\"SELECT score FROM movie\")"
   ]
  },
  {
   "cell_type": "code",
   "execution_count": 18,
   "id": "c416216b",
   "metadata": {},
   "outputs": [
    {
     "data": {
      "text/plain": [
       "[(8.2,), (7.5,)]"
      ]
     },
     "execution_count": 18,
     "metadata": {},
     "output_type": "execute_result"
    }
   ],
   "source": [
    "res.fetchall()"
   ]
  },
  {
   "cell_type": "code",
   "execution_count": 19,
   "id": "ae3f8bd2",
   "metadata": {},
   "outputs": [],
   "source": [
    "data = [\n",
    "    (\"Monty Python Live at the Hollywood Bowl\",1982,7.9),\n",
    "    (\"Monty Python's The Meaning of Life\",1983,7.5),\n",
    "    (\"Monty Python's Life of Brain\",1979,8.0),\n",
    "]\n",
    "cur.executemany(\"INSERT INTO movie VALUES(?,?,?)\", data)\n",
    "con.commit()  # Remember to commit the transaction after executing INSERT."
   ]
  },
  {
   "cell_type": "code",
   "execution_count": 20,
   "id": "0ed08c6e",
   "metadata": {},
   "outputs": [
    {
     "name": "stdout",
     "output_type": "stream",
     "text": [
      "(1971, 'And Now for Something Completely Different')\n",
      "(1975, 'Monty Python and the Holy Grail')\n",
      "(1979, \"Monty Python's Life of Brain\")\n",
      "(1982, 'Monty Python Live at the Hollywood Bowl')\n",
      "(1983, \"Monty Python's The Meaning of Life\")\n"
     ]
    }
   ],
   "source": [
    "for row in cur.execute(\"SELECT year, title FROM movie ORDER BY year\"):\n",
    "    print(row)"
   ]
  },
  {
   "cell_type": "code",
   "execution_count": 21,
   "id": "5fbdcc04",
   "metadata": {},
   "outputs": [
    {
     "name": "stdout",
     "output_type": "stream",
     "text": [
      "The highest scoring Monty Python movie is 'Monty Python and the Holy Grail',released in 1975\n"
     ]
    }
   ],
   "source": [
    "con.close()\n",
    "new_con = sqlite3.connect(\"tutorial.db\")\n",
    "new_cur = new_con.cursor()\n",
    "res = new_cur.execute(\"SELECT title, year FROM movie ORDER BY score DESC\")\n",
    "title, year = res.fetchone()\n",
    "print(f'The highest scoring Monty Python movie is {title!r},released in {year}')"
   ]
  },
  {
   "cell_type": "code",
   "execution_count": 24,
   "id": "6e2ea622",
   "metadata": {},
   "outputs": [
    {
     "data": {
      "text/plain": [
       "True"
      ]
     },
     "execution_count": 24,
     "metadata": {},
     "output_type": "execute_result"
    }
   ],
   "source": [
    "sqlite3.complete_statement(\"SELECT foo FROM bar;\")"
   ]
  },
  {
   "cell_type": "code",
   "execution_count": 25,
   "id": "7d7966b9",
   "metadata": {},
   "outputs": [
    {
     "data": {
      "text/plain": [
       "False"
      ]
     },
     "execution_count": 25,
     "metadata": {},
     "output_type": "execute_result"
    }
   ],
   "source": [
    "sqlite3.complete_statement(\"SELECT foo\")"
   ]
  },
  {
   "cell_type": "code",
   "execution_count": 31,
   "id": "be5c9f61",
   "metadata": {},
   "outputs": [
    {
     "ename": "ZeroDivisionError",
     "evalue": "division by zero",
     "output_type": "error",
     "traceback": [
      "\u001b[1;31m---------------------------------------------------------------------------\u001b[0m",
      "\u001b[1;31mZeroDivisionError\u001b[0m                         Traceback (most recent call last)",
      "Input \u001b[1;32mIn [31]\u001b[0m, in \u001b[0;36mevil_trace\u001b[1;34m(stmt)\u001b[0m\n\u001b[0;32m      3\u001b[0m \u001b[38;5;28;01mdef\u001b[39;00m \u001b[38;5;21mevil_trace\u001b[39m(stmt):\n\u001b[1;32m----> 4\u001b[0m     \u001b[38;5;241;43m5\u001b[39;49m\u001b[38;5;241;43m/\u001b[39;49m\u001b[38;5;241;43m0\u001b[39;49m\n",
      "\u001b[1;31mZeroDivisionError\u001b[0m: division by zero"
     ]
    }
   ],
   "source": [
    "sqlite3.enable_callback_tracebacks(True)\n",
    "con = sqlite3.connect(\":memory:\")\n",
    "def evil_trace(stmt):\n",
    "    5/0\n",
    "con.set_trace_callback(evil_trace)\n",
    "def debug(unraisable):\n",
    "    print(f\"{unraisable.exc_value!r} in callback {unraisable.object.__name__}\")\n",
    "    print(f\"Error message: {unraisable.err_msg}\")  \n",
    "import sys\n",
    "sys.unraisablehook = debug\n",
    "cur = con.execute(\"SELECT 1\")     "
   ]
  },
  {
   "cell_type": "code",
   "execution_count": 35,
   "id": "fc251d44",
   "metadata": {},
   "outputs": [
    {
     "name": "stdout",
     "output_type": "stream",
     "text": [
      "('acbd18db4cc2f85cedef654fccc4a4d8',)\n"
     ]
    }
   ],
   "source": [
    "import hashlib\n",
    "def md5sum(t):\n",
    "    return hashlib.md5(t).hexdigest()\n",
    "con = sqlite3.connect(\":memory:\")\n",
    "con.create_function(\"md5\", 1, md5sum)\n",
    "for row in con.execute(\"SELECT md5(?)\",(b\"foo\",)):\n",
    "    print(row)"
   ]
  },
  {
   "cell_type": "code",
   "execution_count": 37,
   "id": "5a51fe33",
   "metadata": {},
   "outputs": [
    {
     "name": "stdout",
     "output_type": "stream",
     "text": [
      "3\n"
     ]
    }
   ],
   "source": [
    "class MySum:\n",
    "    def __init__(self):\n",
    "        self.count = 0\n",
    "      \n",
    "    def step(self, value):\n",
    "        self.count += value\n",
    "        \n",
    "    def finalize(self):\n",
    "        return self.count\n",
    "    \n",
    "con = sqlite3.connect(\":memory:\")\n",
    "con.create_aggregate(\"mysum\", 1, MySum)\n",
    "cur = con.execute(\"CREATE TABLE test(i)\")\n",
    "cur.execute(\"INSERT INTO test(i) VALUES(1)\")\n",
    "cur.execute(\"INSERT INTO test(i) VALUES(2)\")\n",
    "cur.execute(\"SELECT mysum(i) FROM test\")\n",
    "print(cur.fetchone()[0])\n",
    "\n",
    "con.close()"
   ]
  },
  {
   "cell_type": "code",
   "execution_count": 39,
   "id": "3ae3e4d0",
   "metadata": {},
   "outputs": [
    {
     "ename": "AttributeError",
     "evalue": "'sqlite3.Connection' object has no attribute 'create_window_function'",
     "output_type": "error",
     "traceback": [
      "\u001b[1;31m---------------------------------------------------------------------------\u001b[0m",
      "\u001b[1;31mAttributeError\u001b[0m                            Traceback (most recent call last)",
      "Input \u001b[1;32mIn [39]\u001b[0m, in \u001b[0;36m<cell line: 35>\u001b[1;34m()\u001b[0m\n\u001b[0;32m     27\u001b[0m values \u001b[38;5;241m=\u001b[39m [\n\u001b[0;32m     28\u001b[0m     (\u001b[38;5;124m\"\u001b[39m\u001b[38;5;124ma\u001b[39m\u001b[38;5;124m\"\u001b[39m, \u001b[38;5;241m4\u001b[39m),\n\u001b[0;32m     29\u001b[0m     (\u001b[38;5;124m\"\u001b[39m\u001b[38;5;124mb\u001b[39m\u001b[38;5;124m\"\u001b[39m, \u001b[38;5;241m5\u001b[39m),\n\u001b[1;32m   (...)\u001b[0m\n\u001b[0;32m     32\u001b[0m     (\u001b[38;5;124m\"\u001b[39m\u001b[38;5;124me\u001b[39m\u001b[38;5;124m\"\u001b[39m, \u001b[38;5;241m1\u001b[39m),\n\u001b[0;32m     33\u001b[0m ]\n\u001b[0;32m     34\u001b[0m cur\u001b[38;5;241m.\u001b[39mexecutemany(\u001b[38;5;124m\"\u001b[39m\u001b[38;5;124mINSERT INTO test VALUES(?, ?)\u001b[39m\u001b[38;5;124m\"\u001b[39m, values)\n\u001b[1;32m---> 35\u001b[0m \u001b[43mcon\u001b[49m\u001b[38;5;241;43m.\u001b[39;49m\u001b[43mcreate_window_function\u001b[49m(\u001b[38;5;124m\"\u001b[39m\u001b[38;5;124msumint\u001b[39m\u001b[38;5;124m\"\u001b[39m, \u001b[38;5;241m1\u001b[39m, WindowSumInt)\n\u001b[0;32m     36\u001b[0m cur\u001b[38;5;241m.\u001b[39mexecute(\u001b[38;5;124m\"\"\"\u001b[39m\n\u001b[0;32m     37\u001b[0m \u001b[38;5;124m    SELECT x, sumint(y) OVER (\u001b[39m\n\u001b[0;32m     38\u001b[0m \u001b[38;5;124m        ORDER BY x ROWS BETWEEN 1 PRECEDING AND 1 FOLLOWING\u001b[39m\n\u001b[0;32m     39\u001b[0m \u001b[38;5;124m    ) AS sum_y\u001b[39m\n\u001b[0;32m     40\u001b[0m \u001b[38;5;124m    FROM test ORDER BY x\u001b[39m\n\u001b[0;32m     41\u001b[0m \u001b[38;5;124m\"\"\"\u001b[39m)\n\u001b[0;32m     42\u001b[0m \u001b[38;5;28mprint\u001b[39m(cur\u001b[38;5;241m.\u001b[39mfetchall())\n",
      "\u001b[1;31mAttributeError\u001b[0m: 'sqlite3.Connection' object has no attribute 'create_window_function'"
     ]
    }
   ],
   "source": [
    "class WindowSumInt:\n",
    "    def __init__(self):\n",
    "        self.count = 0\n",
    "\n",
    "    def step(self, value):\n",
    "        \"\"\"Add a row to the current window.\"\"\"\n",
    "        self.count += value\n",
    "\n",
    "    def value(self):\n",
    "        \"\"\"Return the current value of the aggregate.\"\"\"\n",
    "        return self.count\n",
    "\n",
    "    def inverse(self, value):\n",
    "        \"\"\"Remove a row from the current window.\"\"\"\n",
    "        self.count -= value\n",
    "\n",
    "    def finalize(self):\n",
    "        \"\"\"Return the final value of the aggregate.\n",
    "\n",
    "        Any clean-up actions should be placed here.\n",
    "        \"\"\"\n",
    "        return self.count\n",
    "\n",
    "\n",
    "con = sqlite3.connect(\":memory:\")\n",
    "cur = con.execute(\"CREATE TABLE test(x, y)\")\n",
    "values = [\n",
    "    (\"a\", 4),\n",
    "    (\"b\", 5),\n",
    "    (\"c\", 3),\n",
    "    (\"d\", 8),\n",
    "    (\"e\", 1),\n",
    "]\n",
    "cur.executemany(\"INSERT INTO test VALUES(?, ?)\", values)\n",
    "con.create_window_function(\"sumint\", 1, WindowSumInt)\n",
    "cur.execute(\"\"\"\n",
    "    SELECT x, sumint(y) OVER (\n",
    "        ORDER BY x ROWS BETWEEN 1 PRECEDING AND 1 FOLLOWING\n",
    "    ) AS sum_y\n",
    "    FROM test ORDER BY x\n",
    "\"\"\")\n",
    "print(cur.fetchall())"
   ]
  },
  {
   "cell_type": "code",
   "execution_count": 40,
   "id": "98e8d584",
   "metadata": {},
   "outputs": [
    {
     "name": "stdout",
     "output_type": "stream",
     "text": [
      "('b',)\n",
      "('a',)\n"
     ]
    }
   ],
   "source": [
    "def collate_reverse(string1, string2):\n",
    "    if string1 == string2:\n",
    "        return 0\n",
    "    elif string1 < string2:\n",
    "        return 1\n",
    "    else:\n",
    "        return -1\n",
    "    \n",
    "con = sqlite3.connect(\":memory:\")\n",
    "con.create_collation(\"reverse\",collate_reverse)\n",
    "\n",
    "cur = con.execute(\"CREATE TABLE test(x)\")\n",
    "cur.executemany(\"INSERT INTO test(x) VALUES(?)\",[(\"a\",),(\"b\",)])\n",
    "cur.execute(\"SELECT x FROM test ORDER BY x COLLATE reverse\")\n",
    "for row in cur:\n",
    "    print(row)\n",
    "    \n",
    "con.close()    "
   ]
  },
  {
   "cell_type": "code",
   "execution_count": 48,
   "id": "80225982",
   "metadata": {},
   "outputs": [
    {
     "ename": "ProgrammingError",
     "evalue": "Cannot operate on a closed database.",
     "output_type": "error",
     "traceback": [
      "\u001b[1;31m---------------------------------------------------------------------------\u001b[0m",
      "\u001b[1;31mProgrammingError\u001b[0m                          Traceback (most recent call last)",
      "Input \u001b[1;32mIn [48]\u001b[0m, in \u001b[0;36m<cell line: 1>\u001b[1;34m()\u001b[0m\n\u001b[1;32m----> 1\u001b[0m \u001b[43mcon\u001b[49m\u001b[38;5;241;43m.\u001b[39;49m\u001b[43menable_load_extension\u001b[49m\u001b[43m(\u001b[49m\u001b[38;5;28;43;01mTrue\u001b[39;49;00m\u001b[43m)\u001b[49m\n\u001b[0;32m      3\u001b[0m \u001b[38;5;66;03m# Load the fulltext search extension\u001b[39;00m\n\u001b[0;32m      4\u001b[0m con\u001b[38;5;241m.\u001b[39mexecute(\u001b[38;5;124m\"\u001b[39m\u001b[38;5;124mselect load_extension(\u001b[39m\u001b[38;5;124m'\u001b[39m\u001b[38;5;124m./fts3.so\u001b[39m\u001b[38;5;124m'\u001b[39m\u001b[38;5;124m)\u001b[39m\u001b[38;5;124m\"\u001b[39m)\n",
      "\u001b[1;31mProgrammingError\u001b[0m: Cannot operate on a closed database."
     ]
    }
   ],
   "source": [
    "con.enable_load_extension(True)\n",
    "\n",
    "# Load the fulltext search extension\n",
    "con.execute(\"select load_extension('./fts3.so')\")\n",
    "\n",
    "# alternatively you can load the extension using an API call:\n",
    "# con.load_extension(\"./fts3.so\")\n",
    "\n",
    "# disable extension loading again\n",
    "con.enable_load_extension(False)\n",
    "\n",
    "# example from SQLite wiki\n",
    "con.execute(\"CREATE VIRTUAL TABLE recipe USING fts3(name,ingredients)\")\n",
    "con.executescript(\"\"\"\n",
    "INSERT INTO recipe (name, ingredients) VALUES('broccoli stew',\n",
    "'broccoli peppers cheese tomatoes');\n",
    "INSERT INTO recipe (name, ingredients) VALUES('pumpkin stew',\n",
    "'pumpkin onions garlic celery');\n",
    "INSERT INTO recipe (name, ingredients) VALUES('broccoli pie',\n",
    "'broccoli cheese onions flour');\n",
    "INSERT INTO recipe (name, ingredients) VALUES('pumpkin pie',\n",
    "'pumpkin sugar flour butter');\n",
    "\"\"\")\n",
    "for row in con.execute(\"SELECT rowid, name, ingredients FROM recipe WHERE name MATCH 'pie'\"):\n",
    "    print(row)\n",
    "con.close()"
   ]
  },
  {
   "cell_type": "code",
   "execution_count": 51,
   "id": "375b3252",
   "metadata": {},
   "outputs": [],
   "source": [
    "# Convert file example.db to SQL dump file dump.sql\n",
    "con = sqlite3.connect('example.db')\n",
    "with open('dump.sql', 'w') as f:\n",
    "    for line in con.iterdump():\n",
    "        f.write('%s\\n' % line)\n",
    "con.close()"
   ]
  },
  {
   "cell_type": "code",
   "execution_count": 52,
   "id": "d408b71d",
   "metadata": {},
   "outputs": [
    {
     "name": "stdout",
     "output_type": "stream",
     "text": [
      "Copied 0 of 0 pages...\n"
     ]
    }
   ],
   "source": [
    "def progress(status, remaining, total):\n",
    "    print(f'Copied {total-remaining} of {total} pages...')\n",
    "src = sqlite3.connect('example.db')\n",
    "dst = sqlite3.connect('backup.db')\n",
    "with dst:\n",
    "    src.backup(dst, pages=1, progress=progress)\n",
    "dst.close()\n",
    "src.close()"
   ]
  },
  {
   "cell_type": "code",
   "execution_count": 53,
   "id": "ac271856",
   "metadata": {},
   "outputs": [],
   "source": [
    "src = sqlite3.connect('example.db')\n",
    "dst = sqlite3.connect(':memory:')\n",
    "src.backup(dst)"
   ]
  },
  {
   "cell_type": "code",
   "execution_count": 54,
   "id": "095ab4ae",
   "metadata": {},
   "outputs": [
    {
     "ename": "AttributeError",
     "evalue": "'sqlite3.Connection' object has no attribute 'getlimit'",
     "output_type": "error",
     "traceback": [
      "\u001b[1;31m---------------------------------------------------------------------------\u001b[0m",
      "\u001b[1;31mAttributeError\u001b[0m                            Traceback (most recent call last)",
      "Input \u001b[1;32mIn [54]\u001b[0m, in \u001b[0;36m<cell line: 1>\u001b[1;34m()\u001b[0m\n\u001b[1;32m----> 1\u001b[0m \u001b[43mcon\u001b[49m\u001b[38;5;241;43m.\u001b[39;49m\u001b[43mgetlimit\u001b[49m(sqlite3\u001b[38;5;241m.\u001b[39mSQLITE_LIMIT_SQL_LENGTH)\n",
      "\u001b[1;31mAttributeError\u001b[0m: 'sqlite3.Connection' object has no attribute 'getlimit'"
     ]
    }
   ],
   "source": [
    "con.getlimit(sqlite3.SQLITE_LIMIT_SQL_LENGTH)"
   ]
  },
  {
   "cell_type": "code",
   "execution_count": 55,
   "id": "9f1341de",
   "metadata": {},
   "outputs": [
    {
     "ename": "AttributeError",
     "evalue": "'sqlite3.Connection' object has no attribute 'setlimit'",
     "output_type": "error",
     "traceback": [
      "\u001b[1;31m---------------------------------------------------------------------------\u001b[0m",
      "\u001b[1;31mAttributeError\u001b[0m                            Traceback (most recent call last)",
      "Input \u001b[1;32mIn [55]\u001b[0m, in \u001b[0;36m<cell line: 1>\u001b[1;34m()\u001b[0m\n\u001b[1;32m----> 1\u001b[0m \u001b[43mcon\u001b[49m\u001b[38;5;241;43m.\u001b[39;49m\u001b[43msetlimit\u001b[49m(sqlite3\u001b[38;5;241m.\u001b[39mSQLITE_LIMIT_ATTACHED, \u001b[38;5;241m1\u001b[39m)\n",
      "\u001b[1;31mAttributeError\u001b[0m: 'sqlite3.Connection' object has no attribute 'setlimit'"
     ]
    }
   ],
   "source": [
    " con.setlimit(sqlite3.SQLITE_LIMIT_ATTACHED, 1)"
   ]
  },
  {
   "cell_type": "code",
   "execution_count": 57,
   "id": "a4bab88d",
   "metadata": {},
   "outputs": [],
   "source": [
    "con = sqlite3.connect(\":memory:\")\n",
    "cur = con.cursor()\n",
    "AUSTRIA = \"Österreich\"\n",
    "# by default, rows are returned as str\n",
    "cur.execute(\"SELECT ?\", (AUSTRIA,))\n",
    "row = cur.fetchone()\n",
    "assert row[0] == AUSTRIA\n",
    "# but we can make sqlite3 always return bytestrings ...\n",
    "con.text_factory = bytes\n",
    "cur.execute(\"SELECT ?\", (AUSTRIA,))\n",
    "row = cur.fetchone()\n",
    "assert type(row[0]) is bytes\n",
    "# the bytestrings will be encoded in UTF-8, unless you stored garbage in the\n",
    "# database ...\n",
    "assert row[0] == AUSTRIA.encode(\"utf-8\")\n",
    "# we can also implement a custom text_factory ...\n",
    "# here we implement one that appends \"foo\" to all strings\n",
    "con.text_factory = lambda x: x.decode(\"utf-8\") + \"foo\"\n",
    "cur.execute(\"SELECT ?\", (\"bar\",))\n",
    "row = cur.fetchone()\n",
    "assert row[0] == \"barfoo\"\n",
    "con.close()"
   ]
  },
  {
   "cell_type": "code",
   "execution_count": 62,
   "id": "36de0812",
   "metadata": {},
   "outputs": [
    {
     "ename": "OperationalError",
     "evalue": "no such table: data",
     "output_type": "error",
     "traceback": [
      "\u001b[1;31m---------------------------------------------------------------------------\u001b[0m",
      "\u001b[1;31mOperationalError\u001b[0m                          Traceback (most recent call last)",
      "Input \u001b[1;32mIn [62]\u001b[0m, in \u001b[0;36m<cell line: 7>\u001b[1;34m()\u001b[0m\n\u001b[0;32m      2\u001b[0m rows \u001b[38;5;241m=\u001b[39m [\n\u001b[0;32m      3\u001b[0m     (\u001b[38;5;124m\"\u001b[39m\u001b[38;5;124mrow1\u001b[39m\u001b[38;5;124m\"\u001b[39m,),\n\u001b[0;32m      4\u001b[0m     (\u001b[38;5;124m\"\u001b[39m\u001b[38;5;124mrow2\u001b[39m\u001b[38;5;124m\"\u001b[39m,),\n\u001b[0;32m      5\u001b[0m ]\n\u001b[0;32m      6\u001b[0m \u001b[38;5;66;03m# cur is an sqlite3.Cursor object\u001b[39;00m\n\u001b[1;32m----> 7\u001b[0m \u001b[43mcur\u001b[49m\u001b[38;5;241;43m.\u001b[39;49m\u001b[43mexecutemany\u001b[49m\u001b[43m(\u001b[49m\u001b[38;5;124;43m\"\u001b[39;49m\u001b[38;5;124;43mINSERT INTO data VALUES(?)\u001b[39;49m\u001b[38;5;124;43m\"\u001b[39;49m\u001b[43m,\u001b[49m\u001b[43m \u001b[49m\u001b[43mrows\u001b[49m\u001b[43m)\u001b[49m\n",
      "\u001b[1;31mOperationalError\u001b[0m: no such table: data"
     ]
    }
   ],
   "source": [
    "con = sqlite3.connect(\":memory:\")\n",
    "rows = [\n",
    "    (\"row1\",),\n",
    "    (\"row2\",),\n",
    "]\n",
    "# cur is an sqlite3.Cursor object\n",
    "cur.executemany(\"INSERT INTO data VALUES(?)\", rows)"
   ]
  },
  {
   "cell_type": "code",
   "execution_count": 63,
   "id": "bc97d127",
   "metadata": {},
   "outputs": [
    {
     "data": {
      "text/plain": [
       "<sqlite3.Cursor at 0x21de169f420>"
      ]
     },
     "execution_count": 63,
     "metadata": {},
     "output_type": "execute_result"
    }
   ],
   "source": [
    "con = sqlite3.connect(\":memory:\")\n",
    "cur.executescript(\"\"\"\n",
    "BEGIN;\n",
    "CREATE TABLE person(firstname, lastname, age);\n",
    "CREATE TABLE book(title, author, published);\n",
    "CREATE TABLE publisher(name, address);\n",
    "COMMIT;\n",
    "\"\"\")"
   ]
  },
  {
   "cell_type": "code",
   "execution_count": 64,
   "id": "dd1a0581",
   "metadata": {},
   "outputs": [
    {
     "data": {
      "text/plain": [
       "True"
      ]
     },
     "execution_count": 64,
     "metadata": {},
     "output_type": "execute_result"
    }
   ],
   "source": [
    "con = sqlite3.connect(\":memory:\")\n",
    "cur = con.cursor()\n",
    "cur.connection == con"
   ]
  },
  {
   "cell_type": "code",
   "execution_count": 66,
   "id": "3ca47f95",
   "metadata": {},
   "outputs": [
    {
     "ename": "AttributeError",
     "evalue": "'sqlite3.Connection' object has no attribute 'blobopen'",
     "output_type": "error",
     "traceback": [
      "\u001b[1;31m---------------------------------------------------------------------------\u001b[0m",
      "\u001b[1;31mAttributeError\u001b[0m                            Traceback (most recent call last)",
      "Input \u001b[1;32mIn [66]\u001b[0m, in \u001b[0;36m<cell line: 5>\u001b[1;34m()\u001b[0m\n\u001b[0;32m      3\u001b[0m con\u001b[38;5;241m.\u001b[39mexecute(\u001b[38;5;124m\"\u001b[39m\u001b[38;5;124mINSERT INTO test(blob_col) VALUES(zeroblob(13))\u001b[39m\u001b[38;5;124m\"\u001b[39m)\n\u001b[0;32m      4\u001b[0m \u001b[38;5;66;03m# Write to our blob, using two write operations:\u001b[39;00m\n\u001b[1;32m----> 5\u001b[0m \u001b[38;5;28;01mwith\u001b[39;00m \u001b[43mcon\u001b[49m\u001b[38;5;241;43m.\u001b[39;49m\u001b[43mblobopen\u001b[49m(\u001b[38;5;124m\"\u001b[39m\u001b[38;5;124mtest\u001b[39m\u001b[38;5;124m\"\u001b[39m, \u001b[38;5;124m\"\u001b[39m\u001b[38;5;124mblob_col\u001b[39m\u001b[38;5;124m\"\u001b[39m, \u001b[38;5;241m1\u001b[39m) \u001b[38;5;28;01mas\u001b[39;00m blob:\n\u001b[0;32m      6\u001b[0m     blob\u001b[38;5;241m.\u001b[39mwrite(\u001b[38;5;124mb\u001b[39m\u001b[38;5;124m\"\u001b[39m\u001b[38;5;124mhello, \u001b[39m\u001b[38;5;124m\"\u001b[39m)\n\u001b[0;32m      7\u001b[0m     blob\u001b[38;5;241m.\u001b[39mwrite(\u001b[38;5;124mb\u001b[39m\u001b[38;5;124m\"\u001b[39m\u001b[38;5;124mworld.\u001b[39m\u001b[38;5;124m\"\u001b[39m)\n",
      "\u001b[1;31mAttributeError\u001b[0m: 'sqlite3.Connection' object has no attribute 'blobopen'"
     ]
    }
   ],
   "source": [
    "con = sqlite3.connect(\":memory:\")\n",
    "con.execute(\"CREATE TABLE test(blob_col blob)\")\n",
    "con.execute(\"INSERT INTO test(blob_col) VALUES(zeroblob(13))\")\n",
    "# Write to our blob, using two write operations:\n",
    "with con.blobopen(\"test\", \"blob_col\", 1) as blob:\n",
    "    blob.write(b\"hello, \")\n",
    "    blob.write(b\"world.\")\n",
    "    # Modify the first and last bytes of our blob\n",
    "    blob[0] = ord(\"H\")\n",
    "    blob[-1] = ord(\"!\")\n",
    "# Read the contents of our blob\n",
    "with con.blobopen(\"test\", \"blob_col\", 1) as blob:\n",
    "    greeting = blob.read()\n",
    "print(greeting) # outputs \"b'Hello, world!'\"\""
   ]
  }
 ],
 "metadata": {
  "kernelspec": {
   "display_name": "Python 3 (ipykernel)",
   "language": "python",
   "name": "python3"
  },
  "language_info": {
   "codemirror_mode": {
    "name": "ipython",
    "version": 3
   },
   "file_extension": ".py",
   "mimetype": "text/x-python",
   "name": "python",
   "nbconvert_exporter": "python",
   "pygments_lexer": "ipython3",
   "version": "3.9.12"
  }
 },
 "nbformat": 4,
 "nbformat_minor": 5
}
