{
 "cells": [
  {
   "cell_type": "code",
   "execution_count": 23,
   "id": "2a577251",
   "metadata": {},
   "outputs": [
    {
     "name": "stdout",
     "output_type": "stream",
     "text": [
      "DB Init\n",
      "SQLite Version is [('3.41.2',)]\n",
      "SQLite Connection closed\n"
     ]
    }
   ],
   "source": [
    "import sqlite3\n",
    "\n",
    "try:\n",
    "    # Connect to Database and Create a cursor\n",
    "    sqliteConnection = sqlite3.connect('assignment2.db')\n",
    "    cursor = sqliteConnection.cursor()\n",
    "    print('DB Init')\n",
    "    \n",
    "    # Write a query and execute it with cursor\n",
    "    query = 'select sqlite_version();'\n",
    "    cursor.execute(query)\n",
    "    \n",
    "    # Fetch and output result\n",
    "    result = cursor.fetchall()\n",
    "    print('SQLite Version is {}'.format(result))\n",
    "    \n",
    "    # Close the cursor\n",
    "    cursor.close()\n",
    "    \n",
    "# Handle errors\n",
    "except sqlite3.Error as error:\n",
    "    print('Error occured - ',error)\n",
    "        \n",
    "# Close DB Connection irrespective of success\n",
    "# or Failure\n",
    "finally:\n",
    "    if sqliteConnection:\n",
    "        sqliteConnection.close()\n",
    "        print('SQLite Connection closed')"
   ]
  },
  {
   "cell_type": "code",
   "execution_count": 24,
   "id": "e6999c84",
   "metadata": {},
   "outputs": [
    {
     "name": "stdout",
     "output_type": "stream",
     "text": [
      "Table Created Successfully!!!\n"
     ]
    }
   ],
   "source": [
    "# Imported the Pandas-SQLite3\n",
    "import sqlite3\n",
    "\n",
    "# First we connect to the sqlite\n",
    "connection = sqlite3.connect('assignment2.db')\n",
    "\n",
    "# Created cursor\n",
    "cur = connection.cursor()\n",
    "\n",
    "# Checking if the table is already exist or not.\n",
    "# If exists drop the table\n",
    "cur.execute(\"DROP TABLE IF EXISTS CUSTOMER\")\n",
    "\n",
    "# Created table Customer\n",
    "table = \"\"\"CREATE TABLE CUSTOMER(\n",
    "        Customerno INT NOT NULL,\n",
    "        Customername VARCHAR(255) NOT NULL,\n",
    "        City VARCHAR(255) NOT NULL,\n",
    "        State VARCHAR(255) NOT NULL,\n",
    "        Pincode VARCHAR(255) NOT NULL,\n",
    "        Date_of_birth VARCHAR(255) NOT NULL,\n",
    "        Status VARCHAR(255) NOT NULL\n",
    "    );\"\"\"\n",
    "\n",
    "cur.execute(table)\n",
    "\n",
    "print(\"Table Created Successfully!!!\")\n",
    "\n",
    "# Closing the Connection\n",
    "connection.close()"
   ]
  },
  {
   "cell_type": "code",
   "execution_count": 25,
   "id": "d8490a3a",
   "metadata": {},
   "outputs": [
    {
     "name": "stdout",
     "output_type": "stream",
     "text": [
      "Table Data: \n",
      "(1901, 'Vyomesh Mistry', 'Waterloo', 'Ontario', '536014', '1995-01-15', 'A')\n",
      "(1902, 'Vrutti Mistry', 'Woodstock', 'Woodstock', '150035', '1997-11-20', 'B')\n",
      "(1903, 'Prutha Patel', 'Woodstock', 'Ontario', '150030', '1999-12-30', 'C')\n",
      "(1904, 'Karan Brambhatt', 'Newham', 'London', '900010', '1985-04-09', 'D')\n"
     ]
    }
   ],
   "source": [
    "# Imported the Pandas-SQLite3\n",
    "import sqlite3\n",
    "\n",
    "# First we connect to the sqlite\n",
    "connection = sqlite3.connect('assignment2.db')\n",
    "\n",
    "# Created cursor\n",
    "cur = connection.cursor()\n",
    "\n",
    "# Adding values to the Customer Table\n",
    "cur.execute('''INSERT INTO CUSTOMER VALUES(1901, 'Vyomesh Mistry', 'Waterloo', 'Ontario', 536014, '1995-01-15', 'A')''')\n",
    "cur.execute('''INSERT INTO CUSTOMER VALUES(1902, 'Vrutti Mistry', 'Woodstock', 'Woodstock', 150035, '1997-11-20', 'B')''')\n",
    "cur.execute('''INSERT INTO CUSTOMER VALUES(1903, 'Prutha Patel', 'Woodstock', 'Ontario', 150030, '1999-12-30', 'C')''')\n",
    "cur.execute('''INSERT INTO CUSTOMER VALUES(1904, 'Karan Brambhatt', 'Newham', 'London', 900010, '1985-04-09', 'D')''')\n",
    "\n",
    "# Displaying table data which I have inserted above\n",
    "print(\"Table Data: \")\n",
    "data = cur.execute('''SELECT * FROM CUSTOMER''')\n",
    "for row in data:\n",
    "    print(row)\n",
    "    \n",
    "# Commiting my changes to the database\n",
    "connection.commit()\n",
    "\n",
    "# Closing the Connection\n",
    "connection.close()"
   ]
  },
  {
   "cell_type": "code",
   "execution_count": 26,
   "id": "0e26df7d",
   "metadata": {},
   "outputs": [
    {
     "name": "stdout",
     "output_type": "stream",
     "text": [
      "[(1901, 'Vyomesh Mistry', 'Waterloo', 'Ontario', '536014', '1995-01-15', 'A'), (1902, 'Vrutti Mistry', 'Woodstock', 'Woodstock', '150035', '1997-11-20', 'B'), (1903, 'Prutha Patel', 'Woodstock', 'Alberta', '150030', '1999-12-30', 'A'), (1904, 'Karan Brambhatt', 'Newham', 'London', '900010', '1985-04-09', 'D')]\n"
     ]
    }
   ],
   "source": [
    "# Imported the Pandas-SQLite3\n",
    "import sqlite3\n",
    "\n",
    "# First we connect to the sqlite\n",
    "connection = sqlite3.connect('assignment2.db')\n",
    "\n",
    "# Created cursor\n",
    "cur = connection.cursor()\n",
    "\n",
    "# Updating the table\n",
    "cur.execute('''UPDATE CUSTOMER SET State = \"Alberta\", Status = \"A\" WHERE Customerno = \"1903\"''')\n",
    "\n",
    "# Displaying the table record, to see if the record got updated or not\n",
    "cur.execute('''SELECT * FROM CUSTOMER''')\n",
    "print(cur.fetchall())\n",
    "\n",
    "# Commiting my changes to database\n",
    "connection.commit()\n",
    "\n",
    "# Closing Connection\n",
    "connection.close()"
   ]
  },
  {
   "cell_type": "code",
   "execution_count": 27,
   "id": "26a66233",
   "metadata": {},
   "outputs": [
    {
     "name": "stdout",
     "output_type": "stream",
     "text": [
      "[(1902, 'Vrutti Mistry', 'Woodstock', 'Woodstock', '150035', '1997-11-20', 'B')]\n"
     ]
    }
   ],
   "source": [
    "# Imported the Pandas-SQLite3\n",
    "import sqlite3\n",
    "\n",
    "# First we connect to the sqlite\n",
    "connection = sqlite3.connect('assignment2.db')\n",
    "\n",
    "# Created cursor\n",
    "cur = connection.cursor()\n",
    "\n",
    "# Displaying particular rows only\n",
    "cur.execute(\"SELECT * FROM CUSTOMER WHERE State = 'Woodstock'\")\n",
    "print(cur.fetchall())\n",
    "\n",
    "# Commiting my changes to database\n",
    "connection.commit()\n",
    "\n",
    "# Closing Connection\n",
    "connection.close()"
   ]
  },
  {
   "cell_type": "code",
   "execution_count": 28,
   "id": "770e7b15",
   "metadata": {},
   "outputs": [
    {
     "name": "stdout",
     "output_type": "stream",
     "text": [
      "Data: \n",
      "(1901, 'Vyomesh Mistry', 'Ontario')\n",
      "(1902, 'Vrutti Mistry', 'Woodstock')\n",
      "(1903, 'Prutha Patel', 'Alberta')\n",
      "(1904, 'Karan Brambhatt', 'London')\n"
     ]
    }
   ],
   "source": [
    "# Imported the Pandas-SQLite3\n",
    "import sqlite3\n",
    "\n",
    "# First we connect to the sqlite\n",
    "connection = sqlite3.connect('assignment2.db')\n",
    "\n",
    "# Created cursor\n",
    "cur = connection.cursor()\n",
    "\n",
    "# Displaying particular columns from the table\n",
    "print(\"Data: \")\n",
    "data = cur.execute(\"SELECT Customerno, Customername, state FROM CUSTOMER\")\n",
    "for row in data:\n",
    "    print(row)\n",
    "\n",
    "# Commiting my changes to database\n",
    "connection.commit()\n",
    "\n",
    "# Closing Connection\n",
    "connection.close()"
   ]
  },
  {
   "cell_type": "code",
   "execution_count": 29,
   "id": "3295f49c",
   "metadata": {},
   "outputs": [
    {
     "name": "stdout",
     "output_type": "stream",
     "text": [
      "[('Karan Brambhatt', 'Newham')]\n"
     ]
    }
   ],
   "source": [
    "# Imported the Pandas-SQLite3\n",
    "import sqlite3\n",
    "\n",
    "# First we connect to the sqlite\n",
    "connection = sqlite3.connect('assignment2.db')\n",
    "\n",
    "# Created cursor\n",
    "cur = connection.cursor()\n",
    "\n",
    "# Displaying Name and City of person in London\n",
    "cur.execute(\"SELECT Customername, City FROM CUSTOMER WHERE State='London'\")\n",
    "print(cur.fetchall())\n",
    "\n",
    "# Commiting my changes to database\n",
    "connection.commit()\n",
    "\n",
    "# Closing Connection\n",
    "connection.close()"
   ]
  },
  {
   "cell_type": "code",
   "execution_count": 40,
   "id": "fae2a3a6",
   "metadata": {},
   "outputs": [
    {
     "name": "stdout",
     "output_type": "stream",
     "text": [
      "Table Created Successfully!!!\n",
      "Table Data: \n",
      "(1, 'Toy', '3')\n",
      "(2, 'Shoe', '2')\n",
      "(3, 'Electronics', '4')\n"
     ]
    }
   ],
   "source": [
    "# Imported the Pandas-SQLite3\n",
    "import sqlite3\n",
    "\n",
    "# First we connect to the sqlite\n",
    "connection = sqlite3.connect('assignment2.db')\n",
    "\n",
    "# Created cursor\n",
    "cur = connection.cursor()\n",
    "\n",
    "# Checking if the table is already exist or not.\n",
    "# If exists drop the table\n",
    "cur.execute(\"DROP TABLE IF EXISTS DEPARTMENT\")\n",
    "\n",
    "# Created table Customer\n",
    "table = \"\"\"CREATE TABLE DEPARTMENT(\n",
    "    dno INT NOT NULL,\n",
    "    dname VARCHAR(255) NOT NULL,\n",
    "    floor VARCHAR(255) NOT NULL,\n",
    "    PRIMARY KEY(dno)\n",
    "    );\"\"\"\n",
    "\n",
    "cur.execute(table)\n",
    "\n",
    "print(\"Table Created Successfully!!!\")\n",
    "\n",
    "# Adding values to the Department Table\n",
    "cur.execute('''INSERT INTO DEPARTMENT VALUES(1, 'Toy', 3)''')\n",
    "cur.execute('''INSERT INTO DEPARTMENT VALUES(2, 'Shoe', 2)''')\n",
    "cur.execute('''INSERT INTO DEPARTMENT VALUES(3, 'Electronics', 4)''')  \n",
    "    \n",
    "# Displaying table data which I have inserted above\n",
    "print(\"Table Data: \")\n",
    "data = cur.execute('''SELECT * FROM DEPARTMENT''')\n",
    "for row in data:\n",
    "    print(row)\n",
    "    \n",
    "# Commiting my changes to database\n",
    "connection.commit()\n",
    "\n",
    "# Closing Connection\n",
    "connection.close()"
   ]
  },
  {
   "cell_type": "code",
   "execution_count": 42,
   "id": "9b706320",
   "metadata": {},
   "outputs": [
    {
     "name": "stdout",
     "output_type": "stream",
     "text": [
      "Table Created Successfully!!!\n",
      "Table Data: \n",
      "(101, 'Johnny', 1, 60000, 35)\n",
      "(102, 'Jane', 3, 45000, 29)\n",
      "(103, 'Smitha', 1, 70000, 31)\n",
      "(104, 'Tinu', 2, 65000, 26)\n",
      "(105, 'Alice', 3, 55000, 30)\n"
     ]
    }
   ],
   "source": [
    "# Imported the Pandas-SQLite3\n",
    "import sqlite3\n",
    "\n",
    "# First we connect to the sqlite\n",
    "connection = sqlite3.connect('assignment2.db')\n",
    "\n",
    "# Created cursor\n",
    "cur = connection.cursor()\n",
    "\n",
    "# Checking if the table is already exist or not.\n",
    "# If exists drop the table\n",
    "cur.execute(\"DROP TABLE IF EXISTS EMPLOYEE\")\n",
    "\n",
    "# Created table Employee\n",
    "table = \"\"\"CREATE TABLE EMPLOYEE(\n",
    "    empno INT NOT NULL,\n",
    "    empname VARCHAR(255) NOT NULL,\n",
    "    dno INT,\n",
    "    salary INT NOT NULL,\n",
    "    age INT NOT NULL,\n",
    "    FOREIGN KEY(dno) REFERENCES DEPARTMENT(dno),\n",
    "    PRIMARY KEY(empno)\n",
    "    );\"\"\"\n",
    "\n",
    "cur.execute(table)\n",
    "\n",
    "print(\"Table Created Successfully!!!\")\n",
    "\n",
    "# Adding Values to the Employees table\n",
    "cur.execute('''INSERT INTO EMPLOYEE VALUES(101, 'Johnny', 1, 60000, 35)''')\n",
    "cur.execute('''INSERT INTO EMPLOYEE VALUES(102, 'Jane', 3, 45000, 29)''')\n",
    "cur.execute('''INSERT INTO EMPLOYEE VALUES(103, 'Smitha', 1, 70000, 31)''')  \n",
    "cur.execute('''INSERT INTO EMPLOYEE VALUES(104, 'Tinu', 2, 65000, 26)''')\n",
    "cur.execute('''INSERT INTO EMPLOYEE VALUES(105, 'Alice', 3, 55000, 30)''')\n",
    "\n",
    "# Displaying table data which I have inserted above\n",
    "print(\"Table Data: \")\n",
    "data = cur.execute('''SELECT * FROM EMPLOYEE''')\n",
    "for row in data:\n",
    "    print(row)\n",
    "    \n",
    "# Commiting my changes to database\n",
    "connection.commit()\n",
    "\n",
    "# Closing Connection\n",
    "connection.close()    "
   ]
  },
  {
   "cell_type": "code",
   "execution_count": 43,
   "id": "363f3ac2",
   "metadata": {},
   "outputs": [
    {
     "name": "stdout",
     "output_type": "stream",
     "text": [
      "[('Johnny',), ('Jane',), ('Smitha',), ('Tinu',), ('Alice',)]\n"
     ]
    }
   ],
   "source": [
    "# Imported the Pandas-SQLite3\n",
    "import sqlite3\n",
    "\n",
    "# First we connect to the sqlite\n",
    "connection = sqlite3.connect('assignment2.db')\n",
    "\n",
    "# Created cursor\n",
    "cur = connection.cursor()\n",
    "\n",
    "# Displaying employee names\n",
    "cur.execute(\"SELECT empname FROM EMPLOYEE\")\n",
    "print(cur.fetchall())\n",
    "\n",
    "# Commiting my changes to database\n",
    "connection.commit()\n",
    "\n",
    "# Closing Connection\n",
    "connection.close()"
   ]
  },
  {
   "cell_type": "code",
   "execution_count": 44,
   "id": "0395bade",
   "metadata": {},
   "outputs": [
    {
     "name": "stdout",
     "output_type": "stream",
     "text": [
      "[('Electronics', 'Jane'), ('Electronics', 'Alice'), ('Shoe', 'Tinu'), ('Toy', 'Smitha'), ('Toy', 'Johnny')]\n"
     ]
    }
   ],
   "source": [
    "# Imported the Pandas-SQLite3\n",
    "import sqlite3\n",
    "\n",
    "# First we connect to the sqlite\n",
    "connection = sqlite3.connect('assignment2.db')\n",
    "\n",
    "# Created cursor\n",
    "cur = connection.cursor()\n",
    "\n",
    "# Displaying department names and employees\n",
    "cur.execute(\"SELECT d.dname, e.empname FROM DEPARTMENT d JOIN EMPLOYEE e ON d.dno = e.dno ORDER BY d.dname ASC, e.empname DESC\")\n",
    "print(cur.fetchall())\n",
    "\n",
    "# Commiting my changes to database\n",
    "connection.commit()\n",
    "\n",
    "# Closing Connection\n",
    "connection.close()"
   ]
  },
  {
   "cell_type": "code",
   "execution_count": 49,
   "id": "c7888944",
   "metadata": {},
   "outputs": [
    {
     "name": "stdout",
     "output_type": "stream",
     "text": [
      "[('Smitha', 31, 70000), ('Tinu', 26, 65000)]\n"
     ]
    }
   ],
   "source": [
    "# Imported the Pandas-SQLite3\n",
    "import sqlite3\n",
    "\n",
    "# First we connect to the sqlite\n",
    "connection = sqlite3.connect('assignment2.db')\n",
    "\n",
    "# Created cursor\n",
    "cur = connection.cursor()\n",
    "\n",
    "# Displaying Age and Salary of particular employee\n",
    "cur.execute('''SELECT empname, age, salary FROM EMPLOYEE WHERE empname = \"Smitha\" OR empname = \"Tinu\"''')\n",
    "print(cur.fetchall())\n",
    "\n",
    "# Commiting my changes to database\n",
    "connection.commit()\n",
    "\n",
    "# Closing Connection\n",
    "connection.close()"
   ]
  },
  {
   "cell_type": "code",
   "execution_count": 50,
   "id": "e386320f",
   "metadata": {},
   "outputs": [
    {
     "name": "stdout",
     "output_type": "stream",
     "text": [
      "[('Jane',), ('Smitha',), ('Alice',)]\n"
     ]
    }
   ],
   "source": [
    "# Imported the Pandas-SQLite3\n",
    "import sqlite3\n",
    "\n",
    "# First we connect to the sqlite\n",
    "connection = sqlite3.connect('assignment2.db')\n",
    "\n",
    "# Created cursor\n",
    "cur = connection.cursor()\n",
    "\n",
    "# Displaying Employees wiht 'a' anywhere in their name\n",
    "cur.execute(\"SELECT empname FROM EMPLOYEE WHERE empname LIKE '%a%' \")\n",
    "print(cur.fetchall())\n",
    "\n",
    "# Commiting my changes to database\n",
    "connection.commit()\n",
    "\n",
    "# Closing Connection\n",
    "connection.close()"
   ]
  },
  {
   "cell_type": "code",
   "execution_count": 52,
   "id": "dcd2f9e8",
   "metadata": {},
   "outputs": [
    {
     "name": "stdout",
     "output_type": "stream",
     "text": [
      "[('Johnny',), ('Smitha',), ('Tinu',)]\n"
     ]
    }
   ],
   "source": [
    "# Imported the Pandas-SQLite3\n",
    "import sqlite3\n",
    "\n",
    "# First we connect to the sqlite\n",
    "connection = sqlite3.connect('assignment2.db')\n",
    "\n",
    "# Created cursor\n",
    "cur = connection.cursor()\n",
    "\n",
    "# Displaying Employees working in Toy or shoe department\n",
    "cur.execute(\"SELECT empname FROM EMPLOYEE WHERE dno IN (SELECT dno FROM DEPARTMENT WHERE dname = 'Toy' OR dname = 'Shoe')\")\n",
    "print(cur.fetchall())\n",
    "\n",
    "# Commiting my changes to database\n",
    "connection.commit()\n",
    "\n",
    "# Closing Connection\n",
    "connection.close()"
   ]
  },
  {
   "cell_type": "code",
   "execution_count": 56,
   "id": "f49d4c8f",
   "metadata": {},
   "outputs": [
    {
     "name": "stdout",
     "output_type": "stream",
     "text": [
      "[('Shoe',)]\n"
     ]
    }
   ],
   "source": [
    "# Imported the Pandas-SQLite3\n",
    "import sqlite3\n",
    "\n",
    "# First we connect to the sqlite\n",
    "connection = sqlite3.connect('assignment2.db')\n",
    "\n",
    "# Created cursor\n",
    "cur = connection.cursor()\n",
    "\n",
    "# Displaying Employees department\n",
    "cur.execute(\"SELECT dname FROM DEPARTMENT WHERE dno = (SELECT dno FROM EMPLOYEE WHERE empname = 'Tinu')\")\n",
    "print(cur.fetchall())\n",
    "\n",
    "# Commiting my changes to database\n",
    "connection.commit()\n",
    "\n",
    "# Closing Connection\n",
    "connection.close()"
   ]
  },
  {
   "cell_type": "code",
   "execution_count": 61,
   "id": "2318ab20",
   "metadata": {},
   "outputs": [
    {
     "name": "stdout",
     "output_type": "stream",
     "text": [
      "[('Johnny', 'Toy'), ('Jane', 'Electronics'), ('Smitha', 'Toy'), ('Tinu', 'Shoe'), ('Alice', 'Electronics')]\n"
     ]
    }
   ],
   "source": [
    "# Imported the Pandas-SQLite3\n",
    "import sqlite3\n",
    "\n",
    "# First we connect to the sqlite\n",
    "connection = sqlite3.connect('assignment2.db')\n",
    "\n",
    "# Created cursor\n",
    "cur = connection.cursor()\n",
    "\n",
    "# Displaying Employees names & department name \n",
    "cur.execute(\"SELECT e.empname, d.dname FROM EMPLOYEE e JOIN DEPARTMENT d ON e.dno = d.dno\")\n",
    "print(cur.fetchall())\n",
    "\n",
    "# Commiting my changes to database\n",
    "connection.commit()\n",
    "\n",
    "# Closing Connection\n",
    "connection.close()"
   ]
  },
  {
   "cell_type": "code",
   "execution_count": 65,
   "id": "300da93c",
   "metadata": {},
   "outputs": [
    {
     "ename": "OperationalError",
     "evalue": "duplicate column name: joindate",
     "output_type": "error",
     "traceback": [
      "\u001b[1;31m---------------------------------------------------------------------------\u001b[0m",
      "\u001b[1;31mOperationalError\u001b[0m                          Traceback (most recent call last)",
      "Input \u001b[1;32mIn [65]\u001b[0m, in \u001b[0;36m<cell line: 11>\u001b[1;34m()\u001b[0m\n\u001b[0;32m      8\u001b[0m cur \u001b[38;5;241m=\u001b[39m connection\u001b[38;5;241m.\u001b[39mcursor()\n\u001b[0;32m     10\u001b[0m \u001b[38;5;66;03m# Adding Column and inserting data\u001b[39;00m\n\u001b[1;32m---> 11\u001b[0m \u001b[43mcur\u001b[49m\u001b[38;5;241;43m.\u001b[39;49m\u001b[43mexecute\u001b[49m\u001b[43m(\u001b[49m\u001b[38;5;124;43m\"\u001b[39;49m\u001b[38;5;124;43mALTER TABLE EMPLOYEE ADD COLUMN joindate DATE\u001b[39;49m\u001b[38;5;124;43m\"\u001b[39;49m\u001b[43m)\u001b[49m\n\u001b[0;32m     12\u001b[0m cur\u001b[38;5;241m.\u001b[39mexecute(\u001b[38;5;124m\"\u001b[39m\u001b[38;5;124mUPDATE EMPLOYEE SET joindate = \u001b[39m\u001b[38;5;124m'\u001b[39m\u001b[38;5;124m2023-08-10\u001b[39m\u001b[38;5;124m'\u001b[39m\u001b[38;5;124m WHERE empname = \u001b[39m\u001b[38;5;124m'\u001b[39m\u001b[38;5;124mJohn\u001b[39m\u001b[38;5;124m'\u001b[39m\u001b[38;5;124m\"\u001b[39m)\n\u001b[0;32m     13\u001b[0m cur\u001b[38;5;241m.\u001b[39mexecute(\u001b[38;5;124m\"\u001b[39m\u001b[38;5;124mUPDATE EMPLOYEE SET joindate = \u001b[39m\u001b[38;5;124m'\u001b[39m\u001b[38;5;124m2022-25-05\u001b[39m\u001b[38;5;124m'\u001b[39m\u001b[38;5;124m WHERE empname = \u001b[39m\u001b[38;5;124m'\u001b[39m\u001b[38;5;124mJane\u001b[39m\u001b[38;5;124m'\u001b[39m\u001b[38;5;124m\"\u001b[39m)\n",
      "\u001b[1;31mOperationalError\u001b[0m: duplicate column name: joindate"
     ]
    }
   ],
   "source": [
    "# Imported the Pandas-SQLite3\n",
    "import sqlite3\n",
    "\n",
    "# First we connect to the sqlite\n",
    "connection = sqlite3.connect('assignment2.db')\n",
    "\n",
    "# Created cursor\n",
    "cur = connection.cursor()\n",
    "\n",
    "# Adding Column and inserting data\n",
    "cur.execute(\"ALTER TABLE EMPLOYEE ADD COLUMN joindate DATE\")\n",
    "cur.execute(\"UPDATE EMPLOYEE SET joindate = '2023-08-10' WHERE empname = 'John'\")\n",
    "cur.execute(\"UPDATE EMPLOYEE SET joindate = '2022-25-05' WHERE empname = 'Jane'\")\n",
    "cur.execute(\"UPDATE EMPLOYEE SET joindate = '2020-15-06' WHERE empname = 'Smmitha'\")\n",
    "cur.execute(\"UPDATE EMPLOYEE SET joindate = '2018-01-12' WHERE empname = 'Tinu'\")\n",
    "cur.execute(\"UPDATE EMPLOYEE SET joindate = '2016-19-03' WHERE empname = 'Alice'\")\n",
    "\n",
    "# Commiting my changes to database\n",
    "connection.commit()\n",
    "\n",
    "# Closing Connection\n",
    "connection.close()"
   ]
  },
  {
   "cell_type": "code",
   "execution_count": 66,
   "id": "99f8797f",
   "metadata": {},
   "outputs": [
    {
     "name": "stdout",
     "output_type": "stream",
     "text": [
      "(101, 'Johnny', 1, 60000, 35, None)\n",
      "(102, 'Jane', 3, 45000, 29, '2022-25-05')\n",
      "(103, 'Smitha', 1, 70000, 31, None)\n",
      "(104, 'Tinu', 2, 65000, 26, '2018-01-12')\n",
      "(105, 'Alice', 3, 55000, 30, '2016-19-03')\n"
     ]
    }
   ],
   "source": [
    "# Imported the Pandas-SQLite3\n",
    "import sqlite3\n",
    "\n",
    "# First we connect to the sqlite\n",
    "connection = sqlite3.connect('assignment2.db')\n",
    "\n",
    "# Created cursor\n",
    "cur = connection.cursor()\n",
    "\n",
    "data = cur.execute(\"SELECT * FROM EMPLOYEE\")\n",
    "for row in data:\n",
    "    print(row)\n",
    "\n",
    "# Commiting my changes to database\n",
    "connection.commit()\n",
    "\n",
    "# Closing Connection\n",
    "connection.close()"
   ]
  }
 ],
 "metadata": {
  "kernelspec": {
   "display_name": "Python 3 (ipykernel)",
   "language": "python",
   "name": "python3"
  },
  "language_info": {
   "codemirror_mode": {
    "name": "ipython",
    "version": 3
   },
   "file_extension": ".py",
   "mimetype": "text/x-python",
   "name": "python",
   "nbconvert_exporter": "python",
   "pygments_lexer": "ipython3",
   "version": "3.9.12"
  }
 },
 "nbformat": 4,
 "nbformat_minor": 5
}
