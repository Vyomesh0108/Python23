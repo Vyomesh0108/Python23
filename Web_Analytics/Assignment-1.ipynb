{
 "cells": [
  {
   "cell_type": "code",
   "execution_count": 7,
   "id": "cafda18e",
   "metadata": {},
   "outputs": [
    {
     "name": "stdout",
     "output_type": "stream",
     "text": [
      "   Object ID    Department Object Name   Title    Culture Artist Nationality  \\\n",
      "0          1  Department-A    Object-1  Title1  Culture E      Nationality 1   \n",
      "1          2  Department-B    Object-2  Title2  Culture F      Nationality 2   \n",
      "2          3  Department-C    Object-3  Title3  Culture G      Nationality 1   \n",
      "3          4  Department-D    Object-4  Title4  Culture H      Nationality 3   \n",
      "\n",
      "   Object Begin Date  Object End Date    Medium    Credit Line    Country  \n",
      "0              -1992            -2014  Medium 1  Credit Line 1        USA  \n",
      "1              -2005            -1994  Medium 2  Credit Line 2     Canada  \n",
      "2              -2009            -2013  Medium 3  Credit Line 3      India  \n",
      "3              -1992            -2025  Medium 4  Credit Line 4  Australia  \n"
     ]
    }
   ],
   "source": [
    "# importing Pandas library\n",
    "import pandas as pd\n",
    "\n",
    "data = {\n",
    "    'Object ID': [1,2,3,4],\n",
    "    'Department': ['Department-A','Department-B','Department-C','Department-D'],\n",
    "    'Object Name': ['Object-1','Object-2','Object-3','Object-4'],\n",
    "    'Title': ['Title1','Title2','Title3','Title4'],\n",
    "    'Culture': ['Culture E','Culture F','Culture G','Culture H'],\n",
    "    'Artist Nationality': ['Nationality 1', 'Nationality 2', 'Nationality 1', 'Nationality 3'],\n",
    "    'Object Begin Date': [10-2-2000, 5-5-2005, 12-11-2010, 26-3-2015],\n",
    "    'Object End Date': [2-6-2010, 24-3-2015, 11-4-2020, 9-9-2025],\n",
    "    'Medium': ['Medium 1', 'Medium 2', 'Medium 3', 'Medium 4'],\n",
    "    'Credit Line': ['Credit Line 1', 'Credit Line 2', 'Credit Line 3', 'Credit Line 4'],\n",
    "    'Country': ['USA', 'Canada', 'India', 'Australia']\n",
    "}\n",
    "\n",
    "df = pd.DataFrame(data)\n",
    "print(df)"
   ]
  },
  {
   "cell_type": "code",
   "execution_count": 8,
   "id": "af64bf9b",
   "metadata": {},
   "outputs": [
    {
     "name": "stdout",
     "output_type": "stream",
     "text": [
      "    Object ID    Department Object Name   Title    Culture Artist Nationality  \\\n",
      "AA          1  Department-A    Object-1  Title1  Culture E      Nationality 1   \n",
      "BB          2  Department-B    Object-2  Title2  Culture F      Nationality 2   \n",
      "CC          3  Department-C    Object-3  Title3  Culture G      Nationality 1   \n",
      "DD          4  Department-D    Object-4  Title4  Culture H      Nationality 3   \n",
      "\n",
      "    Object Begin Date  Object End Date    Medium    Credit Line    Country  \n",
      "AA              -1992            -2014  Medium 1  Credit Line 1        USA  \n",
      "BB              -2005            -1994  Medium 2  Credit Line 2     Canada  \n",
      "CC              -2009            -2013  Medium 3  Credit Line 3      India  \n",
      "DD              -1992            -2025  Medium 4  Credit Line 4  Australia  \n"
     ]
    }
   ],
   "source": [
    "labels = ['AA','BB','CC','DD']\n",
    "\n",
    "# Created DataFrame with the index label\n",
    "df = pd.DataFrame(data, index=labels)\n",
    "\n",
    "print(df)"
   ]
  },
  {
   "cell_type": "code",
   "execution_count": 9,
   "id": "1a0b70a4",
   "metadata": {},
   "outputs": [
    {
     "name": "stdout",
     "output_type": "stream",
     "text": [
      "      Department    Country\n",
      "AA  Department-A        USA\n",
      "BB  Department-B     Canada\n",
      "CC  Department-C      India\n",
      "DD  Department-D  Australia\n"
     ]
    }
   ],
   "source": [
    "# selecting specific columns from the dataframe\n",
    "\n",
    "columns = df[['Department','Country']] \n",
    "print(columns)"
   ]
  },
  {
   "cell_type": "code",
   "execution_count": 18,
   "id": "33f53ba4",
   "metadata": {},
   "outputs": [
    {
     "name": "stdout",
     "output_type": "stream",
     "text": [
      "    Object ID    Department Object Name   Title    Culture Artist Nationality  \\\n",
      "AA          1  Department-A    Object-1  Title1  Culture E      Nationality 1   \n",
      "BB          2  Department-B    Object-2  Title2  Culture F      Nationality 2   \n",
      "CC          3  Department-C    Object-3  Title3  Culture G      Nationality 1   \n",
      "DD          4  Department-D    Object-4  Title4  Culture H      Nationality 3   \n",
      "\n",
      "    Object Begin Date  Object End Date    Medium    Credit Line    Country  \\\n",
      "AA              -1992            -2014  Medium 1  Credit Line 1        USA   \n",
      "BB              -2005            -1994  Medium 2  Credit Line 2     Canada   \n",
      "CC              -2009            -2013  Medium 3  Credit Line 3      India   \n",
      "DD              -1992            -2025  Medium 4  Credit Line 4  Australia   \n",
      "\n",
      "   Examination Attempts  \n",
      "AA                    4  \n",
      "BB                    5  \n",
      "CC                    2  \n",
      "DD                    1  \n",
      "\n",
      "Number of Attempts Greater than 2\n",
      "\n",
      "    Object ID    Department Object Name   Title    Culture Artist Nationality  \\\n",
      "AA          1  Department-A    Object-1  Title1  Culture E      Nationality 1   \n",
      "BB          2  Department-B    Object-2  Title2  Culture F      Nationality 2   \n",
      "\n",
      "    Object Begin Date  Object End Date    Medium    Credit Line Country  \\\n",
      "AA              -1992            -2014  Medium 1  Credit Line 1     USA   \n",
      "BB              -2005            -1994  Medium 2  Credit Line 2  Canada   \n",
      "\n",
      "    Examination Attempts  \n",
      "AA                     4  \n",
      "BB                     5  \n"
     ]
    }
   ],
   "source": [
    "# importing Pandas Library\n",
    "import pandas as pd\n",
    "\n",
    "data = {\n",
    "    'Object ID': [1,2,3,4],\n",
    "    'Department': ['Department-A','Department-B','Department-C','Department-D'],\n",
    "    'Object Name': ['Object-1','Object-2','Object-3','Object-4'],\n",
    "    'Title': ['Title1','Title2','Title3','Title4'],\n",
    "    'Culture': ['Culture E','Culture F','Culture G','Culture H'],\n",
    "    'Artist Nationality': ['Nationality 1', 'Nationality 2', 'Nationality 1', 'Nationality 3'],\n",
    "    'Object Begin Date': [10-2-2000, 5-5-2005, 12-11-2010, 26-3-2015],\n",
    "    'Object End Date': [2-6-2010, 24-3-2015, 11-4-2020, 9-9-2025],\n",
    "    'Medium': ['Medium 1', 'Medium 2', 'Medium 3', 'Medium 4'],\n",
    "    'Credit Line': ['Credit Line 1', 'Credit Line 2', 'Credit Line 3', 'Credit Line 4'],\n",
    "    'Country': ['USA', 'Canada', 'India', 'Australia'],\n",
    "    'Examination Attempts': ['4','5','2','1']\n",
    "}\n",
    "\n",
    "labels = ['AA','BB','CC','DD']\n",
    "\n",
    "# Created DataFrame with the index label\n",
    "df = pd.DataFrame(data, index=labels)\n",
    "print(df)\n",
    "print(\"\")\n",
    "\n",
    "print(\"Number of Attempts Greater than 2\")\n",
    "print(\"\")\n",
    "\n",
    "# Converting the 'Examination Attempts' Columns to numeric\n",
    "df['Examination Attempts'] = pd.to_numeric(df['Examination Attempts'])\n",
    "\n",
    "# Selecting the row which has record greater than 2\n",
    "gt = df[df['Examination Attempts'] > 2]\n",
    "print(gt)"
   ]
  },
  {
   "cell_type": "code",
   "execution_count": 24,
   "id": "0fa719d0",
   "metadata": {},
   "outputs": [
    {
     "name": "stdout",
     "output_type": "stream",
     "text": [
      "    Year  MSHA ID                       Mine_Name  Production  Labor_Hours\n",
      "0   2013   103381            Tacoa Highwall Miner       56004        22392\n",
      "1   2013   103404                Reid School Mine       28807        28447\n",
      "2   2013   100759  North River #1 Underground Min     1440115       474784\n",
      "3   2013   103246                      Bear Creek       87587        29193\n",
      "4   2013   103451                     Knight Mine      147499        46393\n",
      "5   2013   103433              Crane Central Mine       69339        47195\n",
      "6   2013   100329                    Concord Mine           0       144002\n",
      "7   2013   100851                  Oak Grove Mine     2269014      1001809\n",
      "8   2013   102901                Shoal Creek Mine           0        12396\n",
      "9   2013   102901                Shoal Creek Mine     1453024      1237415\n",
      "10  2013   103180             Sloan Mountain Mine      327780       196963\n",
      "11  2013   103182                        Fishtrap      175058        87314\n",
      "12  2013   103285                     Narley Mine      154861        90584\n",
      "13  2013   103332                   Powhatan Mine      140521        61394\n",
      "14  2013   103375                    Johnson Mine         580         1900\n",
      "15  2013   103419               Maxine-Pratt Mine      125824       107469\n",
      "16  2013   103432                   Skelton Creek        8252          220\n",
      "17  2013   103437         Black Warrior Mine No 1      145924        70926\n",
      "18  2013   102976   Piney Woods Preparation Plant           0        14828\n",
      "19  2013   102976   Piney Woods Preparation Plant           0        23193\n",
      "20  2013   103380                          Calera           0        12621\n",
      "21  2013   103380                          Calera           0         1402\n",
      "22  2013   103422                 Clark No 1 Mine      122727       140250\n",
      "23  2013   103467             Helena Surface Mine       59664        30539\n",
      "24  2013   101247                       No 4 Mine     2622528      1551141\n",
      "25  2013   101401                       No 7 Mine     5405412      2464719\n",
      "26  2013   103172  Searles Mine No. 2, 3, 4, 5, 6      258078       119542\n",
      "27  2013   103179             Fleetwood Mine No 1       75937        63745\n",
      "28  2013   103303                    Shannon Mine      317491       164388\n",
      "29  2013   103323                   Deerlick Mine      133452        46381\n",
      "30  2013   103364           Brc Alabama No. 7 Llc           0        14324\n",
      "31  2013   103436                Swann's Crossing      137511        77190\n",
      "32  2013   100347                    Choctaw Mine      537429       215295\n",
      "33  2013   101362                 Manchester Mine      219457       116914\n",
      "34  2013   102996                  Jap Creek Mine      375715       164093\n",
      "35  2013   103155              Corinth Prep Plant           0        27996\n",
      "36  2013   103155              Corinth Prep Plant           0        51994\n",
      "37  2013   103195     Mccollum/Sparks Branch Mine       71910        17411\n",
      "38  2013   103342             Reese's Branch Mine      263888       115123\n",
      "39  2013   103370             Cresent Valley Mine        2860          621\n",
      "40  2013   103372                 Cane Creek Mine       66258        32401\n",
      "41  2013   103376                      Town Creek      299167       176499\n",
      "42  2013   103389                Carbon Hill Mine       76241        84966\n",
      "43  2013   103410                Coal Valley Mine      407841       158591\n",
      "44  2013   103423                Dutton Hill Mine       37275         9162\n",
      "45  2013  1519322                         Ghm #25       25054         3108\n",
      "46  2013   103321                  Poplar Springs      189370        76366\n",
      "47  2013   103358                       Old Union      284563       161805\n",
      "48  2013  5000030                        Usibelli     1631584       286079\n",
      "49  2013   201195                    Kayenta Mine     7602722      1015333\n"
     ]
    }
   ],
   "source": [
    "# importing Pandas library\n",
    "import pandas as pd\n",
    "\n",
    "# Wrote a code for reading the 'coalpublic2013' excel file\n",
    "df = pd.read_excel('coalpublic2013.xlsx')\n",
    "print(df)"
   ]
  }
 ],
 "metadata": {
  "kernelspec": {
   "display_name": "Python 3 (ipykernel)",
   "language": "python",
   "name": "python3"
  },
  "language_info": {
   "codemirror_mode": {
    "name": "ipython",
    "version": 3
   },
   "file_extension": ".py",
   "mimetype": "text/x-python",
   "name": "python",
   "nbconvert_exporter": "python",
   "pygments_lexer": "ipython3",
   "version": "3.9.12"
  }
 },
 "nbformat": 4,
 "nbformat_minor": 5
}
