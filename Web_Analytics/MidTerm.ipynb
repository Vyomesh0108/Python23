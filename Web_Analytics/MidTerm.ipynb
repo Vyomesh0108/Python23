{
 "cells": [
  {
   "cell_type": "code",
   "execution_count": 11,
   "id": "2f2ad009",
   "metadata": {},
   "outputs": [
    {
     "name": "stdout",
     "output_type": "stream",
     "text": [
      "Original DataFrame:\n",
      "     ord_no  purch_amt    ord_date  customer_id  salesman_id\n",
      "0   70001.0      50.50  2012-10-05         3002       5002.0\n",
      "1       NaN     270.65  2012-09-10         3001       5003.0\n",
      "2   70002.0      65.26         NaN         3001       5001.0\n",
      "3   70004.0     110.50  2012-08-17         3003          NaN\n",
      "4       NaN     948.50  2012-09-10         3002       5002.0\n",
      "5   70005.0    2400.60  2012-07-27         3001       5001.0\n",
      "6       NaN    5760.00  2012-09-10         3001       5001.0\n",
      "7   70010.0    1983.43  2012-10-10         3004          NaN\n",
      "8   70003.0    2480.40  2012-10-10         3003       5003.0\n",
      "9   70012.0     250.45  2012-06-27         3002       5002.0\n",
      "10      NaN      75.29  2012-08-17         3001       5003.0\n",
      "11  70013.0    3045.60  2012-04-25         3001          NaN\n",
      "\n",
      " Columns having NaN Values:\n",
      "ord_no          True\n",
      "purch_amt      False\n",
      "ord_date        True\n",
      "customer_id    False\n",
      "salesman_id     True\n",
      "dtype: bool\n",
      "\n",
      " New DataFrame without missing elements: \n",
      "    ord_no  purch_amt    ord_date  customer_id  salesman_id\n",
      "0  70001.0      50.50  2012-10-05         3002       5002.0\n",
      "5  70005.0    2400.60  2012-07-27         3001       5001.0\n",
      "8  70003.0    2480.40  2012-10-10         3003       5003.0\n",
      "9  70012.0     250.45  2012-06-27         3002       5002.0\n"
     ]
    }
   ],
   "source": [
    "import pandas as pd\n",
    "import numpy as np\n",
    "\n",
    "pd.set_option('display.max_rows', None)\n",
    "\n",
    "df = pd.DataFrame({\n",
    "    'ord_no': [70001,np.nan,70002,70004,np.nan,70005,np.nan,70010,70003,70012,np.nan,70013],\n",
    "    'purch_amt': [50.5,270.65,65.26,110.5,948.5,2400.6,5760,1983.43,2480.4,250.45,\n",
    "75.29,3045.6],\n",
    "    'ord_date': ['2012-10-05','2012-09-10',np.nan,'2012-08-17','2012-09-10','2012-07-27','2012-09-10','2012-10-10','2012-10-10','2012-06-27','2012-08-17','2012-04-25'],\n",
    "    'customer_id': [3002,3001,3001,3003,3002,3001,3001,3004,3003,3002,3001,3001],\n",
    "    'salesman_id': [5002,5003,5001,np.nan,5002,5001,5001,np.nan,5003,5002,5003,np.nan]\n",
    "})\n",
    "\n",
    "print(\"Original DataFrame:\")\n",
    "print(df)\n",
    "\n",
    "print(\"\\n Columns having NaN Values:\")\n",
    "print(df.isna().any())\n",
    "\n",
    "print(\"\\n New DataFrame without missing elements: \")\n",
    "new_df = df.dropna()\n",
    "print(new_df)"
   ]
  },
  {
   "cell_type": "code",
   "execution_count": 23,
   "id": "89b6f4fa",
   "metadata": {},
   "outputs": [
    {
     "name": "stdout",
     "output_type": "stream",
     "text": [
      "    Year  MSHA ID                       Mine_Name Production Labor_Hours\n",
      "0   2013   103381            Tacoa Highwall Miner      56004       22392\n",
      "1   2013   103404                Reid School Mine      28807        8447\n",
      "2   2013   100759  North River #1 Underground Min  14,40,115    4,74,784\n",
      "3   2013   103246                      Bear Creek      87587       29193\n",
      "4   2013   103451                     Knight Mine   1,47,499       46393\n",
      "5   2013   103433              Crane Central Mine      69339       47195\n",
      "6   2013   100329                    Concord Mine          0    1,44,002\n",
      "7   2013   100851                  Oak Grove Mine  22,69,014   10,01,809\n",
      "8   2013   102901                Shoal Creek Mine          0       12396\n",
      "9   2013   102901                Shoal Creek Mine  14,53,024   12,37,415\n",
      "10  2013   103180             Sloan Mountain Mine   3,27,780    1,96,963\n",
      "11  2013   103182                        Fishtrap   1,75,058       87314\n",
      "12  2013   103285                     Narley Mine   1,54,861       90584\n",
      "13  2013   103332                   Powhatan Mine   1,40,521       61394\n",
      "14  2013   103375                    Johnson Mine        580        1900\n",
      "15  2013   103419               Maxine-Pratt Mine   1,25,824    1,07,469\n",
      "16  2013   103432                   Skelton Creek       8252         220\n",
      "17  2013   103437           Black Warrior Mine No  11,45,924       70926\n",
      "18  2013   102976   Piney Woods Preparation Plant          0       14828\n",
      "19  2013   102976   Piney Woods Preparation Plant          0       23193\n",
      "20  2013   103380                          Calera          0       12621\n",
      "21  2013   103380                          Calera          0        1402\n",
      "22  2013   103422                 Clark No 1 Mine   1,22,727    1,40,250\n",
      "23  2013   103467             Helena Surface Mine      59664       30539\n",
      "24  2013   101247                       No 4 Mine  26,22,528   15,51,141\n",
      "25  2013   101401                       No 7 Mine  54,05,412   24,64,719\n",
      "26  2013   103172   Searles Mine No.2, 3, 4, 5, 6   2,58,078    1,19,542\n",
      "27  2013   103179             Fleetwood Mine No 1      75937       63745\n",
      "28  2013   103303                    Shannon Mine   3,17,491    1,64,388\n",
      "29  2013   103323                   Deerlick Mine   1,33,452       46381\n",
      "30  2013   103364           Brc Alabama No. 7 Llc          0       14324\n",
      "31  2013   103436                Swann's Crossing   1,37,511       77190\n",
      "32  2013   100347                    Choctaw Mine   5,37,429    2,15,295\n",
      "33  2013   101362                 Manchester Mine   2,19,457    1,16,914\n",
      "34  2013   102996                  Jap Creek Mine   3,75,715    1,64,093\n",
      "35  2013   103155              Corinth Prep Plant          0       27996\n",
      "36  2013   103155              Corinth Prep Plant          0       51994\n",
      "37  2013   103195     Mccollum/Sparks Branch Mine      71910       17411\n",
      "38  2013   103342             Reese's Branch Mine   2,63,888    1,15,123\n",
      "39  2013   103370             Cresent Valley Mine       2860         621\n",
      "40  2013   103372                 Cane Creek Mine      66258       32401\n",
      "41  2013   103376                      Town Creek   2,99,167    1,76,499\n",
      "42  2013   103389                Carbon Hill Mine      76241       84966\n",
      "43  2013   103410                Coal Valley Mine   4,07,841    1,58,591\n",
      "44  2013   103423                Dutton Hill Mine      37275        9162\n",
      "45  2013  1519322                         Ghm #25      25054        3108\n",
      "46  2013   103321                  Poplar Springs   1,89,370       76366\n",
      "47  2013   103358                       Old Union   2,84,563    1,61,805\n",
      "48  2013  5000030                        Usibelli  16,31,584    2,86,079\n",
      "49  2013   201195                    Kayenta Mine  76,02,722   10,15,333\n",
      "\n",
      " Specific Columns:\n",
      "['Year', 'MSHA ID', 'Mine_Name']\n"
     ]
    }
   ],
   "source": [
    "import pandas as pd\n",
    "\n",
    "df = pd.read_excel('d1.xlsx')\n",
    "\n",
    "specific_columns = ['Year', 'MSHA ID', 'Mine_Name']\n",
    "\n",
    "print(df)\n",
    "print(\"\\n Specific Columns:\")\n",
    "print(specific_columns)"
   ]
  },
  {
   "cell_type": "code",
   "execution_count": 30,
   "id": "8f8909a2",
   "metadata": {},
   "outputs": [
    {
     "data": {
      "image/png": "[encoded data removed]",
      "text/plain": [
       "<Figure size 640x480 with 1 Axes>"
      ]
     },
     "metadata": {},
     "output_type": "display_data"
    }
   ],
   "source": [
    "import pandas as pd\n",
    "import matplotlib.pyplot as plt\n",
    "\n",
    "df = pd.read_csv('alphabet_stock_data.csv')\n",
    "\n",
    "df['Date'] = pd.to_datetime(df['Date'])\n",
    "\n",
    "start_date = '2020-04-01'\n",
    "end_date = '2020-09-30'\n",
    "\n",
    "df_date = df[(df['Date'] >= start_date) & (df['Date'] <= end_date)]\n",
    "\n",
    "df_date['Daily Return'] = df_date['Close'].pct_change()\n",
    "\n",
    "plt.hist(df_date['Daily Return'].dropna(), bins=30, alpha=0.5, color='red')\n",
    "plt.title('Daily Return Distribution of Alphabet Inc. Stock')\n",
    "plt.xlabel('Daily Return')\n",
    "plt.ylabel('Frequency')\n",
    "plt.show()"
   ]
  },
  {
   "cell_type": "code",
   "execution_count": 38,
   "id": "351a5735",
   "metadata": {},
   "outputs": [
    {
     "name": "stdout",
     "output_type": "stream",
     "text": [
      "[(1, 'Non-veg', 'Chicken', 150), (2, 'Non-veg', 'Mutton', 200), (3, 'Non-veg', 'Fish', 220), (4, 'Non-veg', 'Prawns', 250), (5, 'Veg', 'Gobi', 100), (6, 'Veg', 'Parota', 45), (7, 'Veg', 'vegbiriyani', 150), (1, 'Non-veg', 'Chicken', 150), (2, 'Non-veg', 'Mutton', 200), (3, 'Non-veg', 'Fish', 220), (4, 'Non-veg', 'Prawns', 250), (5, 'Veg', 'Gobi', 100), (6, 'Veg', 'Parota', 45), (7, 'Veg', 'vegbiriyani', 150)]\n"
     ]
    }
   ],
   "source": [
    "import sqlite3\n",
    "\n",
    "con = sqlite3.connect('midterm.db')\n",
    "\n",
    "cur = con.cursor()\n",
    "\n",
    "# con.execute(\"CREATE TABLE FOOD(Id, Category, Product, Value)\")\n",
    "\n",
    "data = [(1, 'Non-veg', 'Chicken', 150),\n",
    "       (2, 'Non-veg', 'Mutton', 200),\n",
    "       (3, 'Non-veg', 'Fish', 220),\n",
    "       (4, 'Non-veg', 'Prawns', 250),\n",
    "       (5, 'Veg', 'Gobi', 100),\n",
    "       (6, 'Veg', 'Parota', 45),\n",
    "       (7, 'Veg', 'vegbiriyani', 150)]\n",
    "\n",
    "con.executemany(\"INSERT INTO FOOD VALUES(?,?,?,?)\", data)\n",
    "\n",
    "res = cur.execute(\"SELECT * FROM FOOD\")\n",
    "\n",
    "print(res.fetchall())\n",
    "\n",
    "con.commit()"
   ]
  },
  {
   "cell_type": "code",
   "execution_count": 40,
   "id": "6ab71258",
   "metadata": {},
   "outputs": [
    {
     "ename": "KeyError",
     "evalue": "'Labour_Hours'",
     "output_type": "error",
     "traceback": [
      "\u001b[0;31m---------------------------------------------------------------------------\u001b[0m",
      "\u001b[0;31mKeyError\u001b[0m                                  Traceback (most recent call last)",
      "File \u001b[0;32m~/anaconda3/lib/python3.11/site-packages/pandas/core/indexes/base.py:3802\u001b[0m, in \u001b[0;36mIndex.get_loc\u001b[0;34m(self, key, method, tolerance)\u001b[0m\n\u001b[1;32m   3801\u001b[0m \u001b[38;5;28;01mtry\u001b[39;00m:\n\u001b[0;32m-> 3802\u001b[0m     \u001b[38;5;28;01mreturn\u001b[39;00m \u001b[38;5;28mself\u001b[39m\u001b[38;5;241m.\u001b[39m_engine\u001b[38;5;241m.\u001b[39mget_loc(casted_key)\n\u001b[1;32m   3803\u001b[0m \u001b[38;5;28;01mexcept\u001b[39;00m \u001b[38;5;167;01mKeyError\u001b[39;00m \u001b[38;5;28;01mas\u001b[39;00m err:\n",
      "File \u001b[0;32m~/anaconda3/lib/python3.11/site-packages/pandas/_libs/index.pyx:138\u001b[0m, in \u001b[0;36mpandas._libs.index.IndexEngine.get_loc\u001b[0;34m()\u001b[0m\n",
      "File \u001b[0;32m~/anaconda3/lib/python3.11/site-packages/pandas/_libs/index.pyx:165\u001b[0m, in \u001b[0;36mpandas._libs.index.IndexEngine.get_loc\u001b[0;34m()\u001b[0m\n",
      "File \u001b[0;32mpandas/_libs/hashtable_class_helper.pxi:5745\u001b[0m, in \u001b[0;36mpandas._libs.hashtable.PyObjectHashTable.get_item\u001b[0;34m()\u001b[0m\n",
      "File \u001b[0;32mpandas/_libs/hashtable_class_helper.pxi:5753\u001b[0m, in \u001b[0;36mpandas._libs.hashtable.PyObjectHashTable.get_item\u001b[0;34m()\u001b[0m\n",
      "\u001b[0;31mKeyError\u001b[0m: 'Labour_Hours'",
      "\nThe above exception was the direct cause of the following exception:\n",
      "\u001b[0;31mKeyError\u001b[0m                                  Traceback (most recent call last)",
      "Cell \u001b[0;32mIn[40], line 5\u001b[0m\n\u001b[1;32m      1\u001b[0m \u001b[38;5;28;01mimport\u001b[39;00m \u001b[38;5;21;01mpandas\u001b[39;00m \u001b[38;5;28;01mas\u001b[39;00m \u001b[38;5;21;01mpd\u001b[39;00m\n\u001b[1;32m      3\u001b[0m df \u001b[38;5;241m=\u001b[39m pd\u001b[38;5;241m.\u001b[39mread_excel(\u001b[38;5;124m'\u001b[39m\u001b[38;5;124md1.xlsx\u001b[39m\u001b[38;5;124m'\u001b[39m)\n\u001b[0;32m----> 5\u001b[0m df1 \u001b[38;5;241m=\u001b[39m \u001b[38;5;28msum\u001b[39m(df[\u001b[38;5;124m'\u001b[39m\u001b[38;5;124mLabour_Hours\u001b[39m\u001b[38;5;124m'\u001b[39m])\n\u001b[1;32m      7\u001b[0m \u001b[38;5;28mprint\u001b[39m(df1)\n",
      "File \u001b[0;32m~/anaconda3/lib/python3.11/site-packages/pandas/core/frame.py:3807\u001b[0m, in \u001b[0;36mDataFrame.__getitem__\u001b[0;34m(self, key)\u001b[0m\n\u001b[1;32m   3805\u001b[0m \u001b[38;5;28;01mif\u001b[39;00m \u001b[38;5;28mself\u001b[39m\u001b[38;5;241m.\u001b[39mcolumns\u001b[38;5;241m.\u001b[39mnlevels \u001b[38;5;241m>\u001b[39m \u001b[38;5;241m1\u001b[39m:\n\u001b[1;32m   3806\u001b[0m     \u001b[38;5;28;01mreturn\u001b[39;00m \u001b[38;5;28mself\u001b[39m\u001b[38;5;241m.\u001b[39m_getitem_multilevel(key)\n\u001b[0;32m-> 3807\u001b[0m indexer \u001b[38;5;241m=\u001b[39m \u001b[38;5;28mself\u001b[39m\u001b[38;5;241m.\u001b[39mcolumns\u001b[38;5;241m.\u001b[39mget_loc(key)\n\u001b[1;32m   3808\u001b[0m \u001b[38;5;28;01mif\u001b[39;00m is_integer(indexer):\n\u001b[1;32m   3809\u001b[0m     indexer \u001b[38;5;241m=\u001b[39m [indexer]\n",
      "File \u001b[0;32m~/anaconda3/lib/python3.11/site-packages/pandas/core/indexes/base.py:3804\u001b[0m, in \u001b[0;36mIndex.get_loc\u001b[0;34m(self, key, method, tolerance)\u001b[0m\n\u001b[1;32m   3802\u001b[0m     \u001b[38;5;28;01mreturn\u001b[39;00m \u001b[38;5;28mself\u001b[39m\u001b[38;5;241m.\u001b[39m_engine\u001b[38;5;241m.\u001b[39mget_loc(casted_key)\n\u001b[1;32m   3803\u001b[0m \u001b[38;5;28;01mexcept\u001b[39;00m \u001b[38;5;167;01mKeyError\u001b[39;00m \u001b[38;5;28;01mas\u001b[39;00m err:\n\u001b[0;32m-> 3804\u001b[0m     \u001b[38;5;28;01mraise\u001b[39;00m \u001b[38;5;167;01mKeyError\u001b[39;00m(key) \u001b[38;5;28;01mfrom\u001b[39;00m \u001b[38;5;21;01merr\u001b[39;00m\n\u001b[1;32m   3805\u001b[0m \u001b[38;5;28;01mexcept\u001b[39;00m \u001b[38;5;167;01mTypeError\u001b[39;00m:\n\u001b[1;32m   3806\u001b[0m     \u001b[38;5;66;03m# If we have a listlike key, _check_indexing_error will raise\u001b[39;00m\n\u001b[1;32m   3807\u001b[0m     \u001b[38;5;66;03m#  InvalidIndexError. Otherwise we fall through and re-raise\u001b[39;00m\n\u001b[1;32m   3808\u001b[0m     \u001b[38;5;66;03m#  the TypeError.\u001b[39;00m\n\u001b[1;32m   3809\u001b[0m     \u001b[38;5;28mself\u001b[39m\u001b[38;5;241m.\u001b[39m_check_indexing_error(key)\n",
      "\u001b[0;31mKeyError\u001b[0m: 'Labour_Hours'"
     ]
    }
   ],
   "source": [
    "import pandas as pd\n",
    "\n",
    "df = pd.read_excel('d1.xlsx')\n",
    "\n",
    "df1 = sum(df['Labour_Hours'])\n",
    "\n",
    "print(df1)"
   ]
  },
  {
   "cell_type": "code",
   "execution_count": null,
   "id": "a0af94d4",
   "metadata": {},
   "outputs": [],
   "source": []
  }
 ],
 "metadata": {
  "kernelspec": {
   "display_name": "Python 3 (ipykernel)",
   "language": "python",
   "name": "python3"
  },
  "language_info": {
   "codemirror_mode": {
    "name": "ipython",
    "version": 3
   },
   "file_extension": ".py",
   "mimetype": "text/x-python",
   "name": "python",
   "nbconvert_exporter": "python",
   "pygments_lexer": "ipython3",
   "version": "3.11.4"
  }
 },
 "nbformat": 4,
 "nbformat_minor": 5
}
